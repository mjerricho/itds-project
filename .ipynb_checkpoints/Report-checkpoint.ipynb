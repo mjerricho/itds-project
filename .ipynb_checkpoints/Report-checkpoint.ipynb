{
 "cells": [
  {
   "cell_type": "markdown",
   "id": "63fbc676",
   "metadata": {},
   "source": [
    "# Report\n",
    "By Marcellinus Jerricho, Edward Jeremy Lo, Rana Harris Farooq"
   ]
  },
  {
   "cell_type": "markdown",
   "id": "29dd41cf",
   "metadata": {},
   "source": [
    "## Content\n",
    "The report contains the following:\n",
    "1. [Introduction](#Introduction)\n",
    "2. [EDA](#EDA)\n",
    "3. [Research Question](#Research-Question)\n",
    "4. [Prediction](#Prediction)\n",
    "5. [Conclusion](#Conclusion)"
   ]
  },
  {
   "cell_type": "code",
   "execution_count": 1,
   "id": "4ef9f71c",
   "metadata": {},
   "outputs": [],
   "source": [
    "# importing necessary modules\n",
    "import pandas as pd\n",
    "import numpy as np\n",
    "import os\n",
    "import re\n",
    "import matplotlib.pyplot as plt\n",
    "np.random.seed(42)\n",
    "plt.style.use('fivethirtyeight')\n",
    "%matplotlib inline"
   ]
  },
  {
   "cell_type": "markdown",
   "id": "0223af4e",
   "metadata": {},
   "source": [
    "## Introduction"
   ]
  },
  {
   "cell_type": "markdown",
   "id": "1ef1234e",
   "metadata": {},
   "source": [
    "**Research Question:** Does the number of penalties score, number of penalties taken, team’s payroll (total salary paid annually), and stadium capacity influence the team's penalty success rate? \n",
    "\n",
    "TODO: introduction about the question.\n",
    "\n",
    "The three datasets we use are:\n",
    "1. [Football penalty kicks](https://www.kaggle.com/emilerichard/penalty-statistics-20192020) from the 2019-2020 season from Bundesliga, Serie A, Ligue 1, English Premier League, and the European Champions League.\n",
    "2. The [payroll](https://www.capology.com) of each club: the total amount of salary each club paid in that year, in Euros and GBP.\n",
    "3. The [stadium capacity](https://data.world/johayes13/football-soccer-stadiums) of each match."
   ]
  },
  {
   "cell_type": "markdown",
   "id": "85384245",
   "metadata": {},
   "source": [
    "## EDA"
   ]
  },
  {
   "cell_type": "markdown",
   "id": "04fbdb57",
   "metadata": {},
   "source": [
    "### Importing Datasets"
   ]
  },
  {
   "cell_type": "code",
   "execution_count": 2,
   "id": "68ce2cf5",
   "metadata": {},
   "outputs": [
    {
     "data": {
      "text/html": [
       "<div>\n",
       "<style scoped>\n",
       "    .dataframe tbody tr th:only-of-type {\n",
       "        vertical-align: middle;\n",
       "    }\n",
       "\n",
       "    .dataframe tbody tr th {\n",
       "        vertical-align: top;\n",
       "    }\n",
       "\n",
       "    .dataframe thead th {\n",
       "        text-align: right;\n",
       "    }\n",
       "</style>\n",
       "<table border=\"1\" class=\"dataframe\">\n",
       "  <thead>\n",
       "    <tr style=\"text-align: right;\">\n",
       "      <th></th>\n",
       "      <th>Competition</th>\n",
       "      <th>Home team</th>\n",
       "      <th>Away team</th>\n",
       "      <th>Minute</th>\n",
       "      <th>PT position</th>\n",
       "      <th>Team taking pen_Home</th>\n",
       "      <th>Scored_YES</th>\n",
       "      <th>Team win_YES</th>\n",
       "      <th>PT team</th>\n",
       "    </tr>\n",
       "  </thead>\n",
       "  <tbody>\n",
       "    <tr>\n",
       "      <th>0</th>\n",
       "      <td>Premier League</td>\n",
       "      <td>West Ham</td>\n",
       "      <td>Manchester City</td>\n",
       "      <td>84.0</td>\n",
       "      <td>ST</td>\n",
       "      <td>0</td>\n",
       "      <td>0</td>\n",
       "      <td>1</td>\n",
       "      <td>Manchester City</td>\n",
       "    </tr>\n",
       "    <tr>\n",
       "      <th>1</th>\n",
       "      <td>Premier League</td>\n",
       "      <td>West Ham</td>\n",
       "      <td>Manchester City</td>\n",
       "      <td>86.0</td>\n",
       "      <td>ST</td>\n",
       "      <td>0</td>\n",
       "      <td>1</td>\n",
       "      <td>1</td>\n",
       "      <td>Manchester City</td>\n",
       "    </tr>\n",
       "    <tr>\n",
       "      <th>2</th>\n",
       "      <td>Premier League</td>\n",
       "      <td>Manchester United</td>\n",
       "      <td>Chelsea</td>\n",
       "      <td>18.0</td>\n",
       "      <td>W</td>\n",
       "      <td>1</td>\n",
       "      <td>1</td>\n",
       "      <td>1</td>\n",
       "      <td>Manchester United</td>\n",
       "    </tr>\n",
       "    <tr>\n",
       "      <th>3</th>\n",
       "      <td>Premier League</td>\n",
       "      <td>Aston Villa</td>\n",
       "      <td>Bournemouth</td>\n",
       "      <td>2.0</td>\n",
       "      <td>OM</td>\n",
       "      <td>0</td>\n",
       "      <td>1</td>\n",
       "      <td>1</td>\n",
       "      <td>Bournemouth</td>\n",
       "    </tr>\n",
       "    <tr>\n",
       "      <th>4</th>\n",
       "      <td>Premier League</td>\n",
       "      <td>Wolverhampton</td>\n",
       "      <td>Manchester United</td>\n",
       "      <td>68.0</td>\n",
       "      <td>DM</td>\n",
       "      <td>0</td>\n",
       "      <td>0</td>\n",
       "      <td>0</td>\n",
       "      <td>Manchester United</td>\n",
       "    </tr>\n",
       "  </tbody>\n",
       "</table>\n",
       "</div>"
      ],
      "text/plain": [
       "      Competition          Home team          Away team  Minute PT position  \\\n",
       "0  Premier League           West Ham    Manchester City    84.0          ST   \n",
       "1  Premier League           West Ham    Manchester City    86.0          ST   \n",
       "2  Premier League  Manchester United            Chelsea    18.0           W   \n",
       "3  Premier League        Aston Villa        Bournemouth     2.0          OM   \n",
       "4  Premier League      Wolverhampton  Manchester United    68.0          DM   \n",
       "\n",
       "   Team taking pen_Home  Scored_YES  Team win_YES            PT team  \n",
       "0                     0           0             1    Manchester City  \n",
       "1                     0           1             1    Manchester City  \n",
       "2                     1           1             1  Manchester United  \n",
       "3                     0           1             1        Bournemouth  \n",
       "4                     0           0             0  Manchester United  "
      ]
     },
     "execution_count": 2,
     "metadata": {},
     "output_type": "execute_result"
    }
   ],
   "source": [
    "# 1) Penalty kicks\n",
    "# PT = Penalty Taker\n",
    "columns_to_drop = ['Pen taker', 'Journee', 'Date', \n",
    "                   'LtD game-changing pen', 'DtW game-changing pen', \n",
    "                   'L no game-changing', 'W no game-changing', 'PT sub', 'Last Goal']\n",
    "penalty_stats = pd.read_csv('penalty_stats_19_20.csv').drop(columns=columns_to_drop).dropna()\n",
    "\n",
    "# get the dummies\n",
    "columns_to_get_dummies = ['Team taking pen', 'Scored', 'Team win']\n",
    "penalty_stats_dummies = pd.get_dummies(penalty_stats[columns_to_get_dummies], drop_first=True)\n",
    "\n",
    "# combining penalty\n",
    "columns_to_join = ['Competition', 'Home team', 'Away team', 'Minute', 'PT position']\n",
    "penalty = penalty_stats[columns_to_join].join(penalty_stats_dummies)\n",
    "\n",
    "# getting the team taking penalty\n",
    "def get_PT_team(row):\n",
    "    if row['Team taking pen_Home']:\n",
    "        return row['Home team']\n",
    "    return row['Away team']\n",
    "\n",
    "penalty['PT team'] = penalty.apply(get_PT_team, axis=1)\n",
    "penalty.head()"
   ]
  },
  {
   "cell_type": "code",
   "execution_count": 3,
   "id": "cf261fbf",
   "metadata": {},
   "outputs": [
    {
     "data": {
      "text/html": [
       "<div>\n",
       "<style scoped>\n",
       "    .dataframe tbody tr th:only-of-type {\n",
       "        vertical-align: middle;\n",
       "    }\n",
       "\n",
       "    .dataframe tbody tr th {\n",
       "        vertical-align: top;\n",
       "    }\n",
       "\n",
       "    .dataframe thead th {\n",
       "        text-align: right;\n",
       "    }\n",
       "</style>\n",
       "<table border=\"1\" class=\"dataframe\">\n",
       "  <thead>\n",
       "    <tr style=\"text-align: right;\">\n",
       "      <th></th>\n",
       "      <th>Club</th>\n",
       "      <th>Payroll_EUR</th>\n",
       "    </tr>\n",
       "  </thead>\n",
       "  <tbody>\n",
       "    <tr>\n",
       "      <th>0</th>\n",
       "      <td>Paderborn</td>\n",
       "      <td>7.010000e+08</td>\n",
       "    </tr>\n",
       "    <tr>\n",
       "      <th>1</th>\n",
       "      <td>Wolfsburg</td>\n",
       "      <td>6.687000e+09</td>\n",
       "    </tr>\n",
       "    <tr>\n",
       "      <th>2</th>\n",
       "      <td>Eintracht Frankfurt</td>\n",
       "      <td>4.307000e+09</td>\n",
       "    </tr>\n",
       "    <tr>\n",
       "      <th>3</th>\n",
       "      <td>Dusseldorf</td>\n",
       "      <td>2.195000e+09</td>\n",
       "    </tr>\n",
       "    <tr>\n",
       "      <th>4</th>\n",
       "      <td>Schalke 04</td>\n",
       "      <td>4.863000e+09</td>\n",
       "    </tr>\n",
       "  </tbody>\n",
       "</table>\n",
       "</div>"
      ],
      "text/plain": [
       "                  Club   Payroll_EUR\n",
       "0            Paderborn  7.010000e+08\n",
       "1            Wolfsburg  6.687000e+09\n",
       "2  Eintracht Frankfurt  4.307000e+09\n",
       "3           Dusseldorf  2.195000e+09\n",
       "4           Schalke 04  4.863000e+09"
      ]
     },
     "execution_count": 3,
     "metadata": {},
     "output_type": "execute_result"
    }
   ],
   "source": [
    "# 2) Payrolls\n",
    "# getting individual datasets\n",
    "bundesliga = pd.read_csv('bundesliga.csv')[['Club', 'Annual Gross (IN EUR']]\n",
    "ligue1 = pd.read_csv('ligue-1.csv')[['Club', 'Annual Gross (IN EUR']]\n",
    "serieA = pd.read_csv('serieA.csv')[['Club', 'Annual Gross (IN EUR']]\n",
    "laliga = pd.read_csv('la-liga.csv')[['Club', 'Annual Gross (IN EUR']]\n",
    "primeiraliga = pd.read_csv('primeira-liga.csv')[['Club', 'Annual Gross (IN EUR']]\n",
    "# NOTE: epl is in GBP, not in EUR\n",
    "epl = pd.read_csv('epl.csv')[['Club', 'Annual Gross (IN GBP']]\\\n",
    "        .rename(columns={'Annual Gross (IN GBP': 'Payroll'}).drop_duplicates('Club')\n",
    "\n",
    "# defining functions to convert the currency to float\n",
    "def get_payroll_float(payroll_str):\n",
    "    '''\n",
    "    Convert the payroll in string into payroll in integers.\n",
    "    '''\n",
    "    payroll_int = float(\"\".join(re.findall('\\d+', payroll_str)))\n",
    "    return payroll_int * 1000\n",
    "\n",
    "def convert_GBP_to_EUR(payroll_gbp):\n",
    "    '''\n",
    "    Convert the payroll from GBP currency to EUR currency for EPL\n",
    "    Source: https://www.exchangerates.org.uk/GBP-EUR-spot-exchange-rates-history-2019.html#:~:text=Average%20exchange%20rate%20in%202019%3A%201.1405%20EUR.\n",
    "    '''\n",
    "    return payroll_gbp * 1.1405\n",
    "\n",
    "# Combining the payroll datasets\n",
    "payroll_EUR = bundesliga.append(ligue1).append(serieA).append(laliga).append(primeiraliga).reset_index()\\\n",
    "                        .rename(columns={'Annual Gross (IN EUR': 'Payroll'}).drop_duplicates('Club')\n",
    "payroll_EUR['Payroll_EUR'] = payroll_EUR['Payroll'].apply(get_payroll_float)\n",
    "payroll_epl = epl\n",
    "payroll_epl['Payroll_EUR'] = payroll_epl['Payroll'].apply(get_payroll_float).apply(convert_GBP_to_EUR)\n",
    "payroll = payroll_EUR.append(payroll_epl).reset_index().drop(columns=['Payroll', 'index', 'level_0'])\n",
    "payroll.head()"
   ]
  },
  {
   "cell_type": "code",
   "execution_count": 4,
   "id": "4e053543",
   "metadata": {},
   "outputs": [
    {
     "data": {
      "text/html": [
       "<div>\n",
       "<style scoped>\n",
       "    .dataframe tbody tr th:only-of-type {\n",
       "        vertical-align: middle;\n",
       "    }\n",
       "\n",
       "    .dataframe tbody tr th {\n",
       "        vertical-align: top;\n",
       "    }\n",
       "\n",
       "    .dataframe thead th {\n",
       "        text-align: right;\n",
       "    }\n",
       "</style>\n",
       "<table border=\"1\" class=\"dataframe\">\n",
       "  <thead>\n",
       "    <tr style=\"text-align: right;\">\n",
       "      <th></th>\n",
       "      <th>HomeTeams</th>\n",
       "      <th>Stadium cap</th>\n",
       "    </tr>\n",
       "  </thead>\n",
       "  <tbody>\n",
       "    <tr>\n",
       "      <th>0</th>\n",
       "      <td>Besëlidhja</td>\n",
       "      <td>7000</td>\n",
       "    </tr>\n",
       "    <tr>\n",
       "      <th>1</th>\n",
       "      <td>Flamurtari Vlorë</td>\n",
       "      <td>8200</td>\n",
       "    </tr>\n",
       "    <tr>\n",
       "      <th>2</th>\n",
       "      <td>KF Laçi</td>\n",
       "      <td>5000</td>\n",
       "    </tr>\n",
       "    <tr>\n",
       "      <th>3</th>\n",
       "      <td>Teuta</td>\n",
       "      <td>12040</td>\n",
       "    </tr>\n",
       "    <tr>\n",
       "      <th>4</th>\n",
       "      <td>KF Tirana, Dinamo, Partizani</td>\n",
       "      <td>9500</td>\n",
       "    </tr>\n",
       "  </tbody>\n",
       "</table>\n",
       "</div>"
      ],
      "text/plain": [
       "                      HomeTeams  Stadium cap\n",
       "0                    Besëlidhja         7000\n",
       "1              Flamurtari Vlorë         8200\n",
       "2                       KF Laçi         5000\n",
       "3                         Teuta        12040\n",
       "4  KF Tirana, Dinamo, Partizani         9500"
      ]
     },
     "execution_count": 4,
     "metadata": {},
     "output_type": "execute_result"
    }
   ],
   "source": [
    "# 3) Stadium Capacity\n",
    "capacity = pd.read_csv('football-stadiums.csv')[['Confederation', 'HomeTeams', 'Capacity']]\n",
    "capacity = capacity.drop(columns=['Confederation']).rename(columns={'Capacity': 'Stadium cap'})\n",
    "capacity.head()"
   ]
  },
  {
   "cell_type": "markdown",
   "id": "73509868",
   "metadata": {},
   "source": [
    "### Combining Datasets"
   ]
  },
  {
   "cell_type": "code",
   "execution_count": 5,
   "id": "8ba46913",
   "metadata": {},
   "outputs": [
    {
     "data": {
      "text/html": [
       "<div>\n",
       "<style scoped>\n",
       "    .dataframe tbody tr th:only-of-type {\n",
       "        vertical-align: middle;\n",
       "    }\n",
       "\n",
       "    .dataframe tbody tr th {\n",
       "        vertical-align: top;\n",
       "    }\n",
       "\n",
       "    .dataframe thead th {\n",
       "        text-align: right;\n",
       "    }\n",
       "</style>\n",
       "<table border=\"1\" class=\"dataframe\">\n",
       "  <thead>\n",
       "    <tr style=\"text-align: right;\">\n",
       "      <th></th>\n",
       "      <th>Competition</th>\n",
       "      <th>Home team</th>\n",
       "      <th>Away team</th>\n",
       "      <th>Minute</th>\n",
       "      <th>PT position</th>\n",
       "      <th>Team taking pen_Home</th>\n",
       "      <th>Scored_YES</th>\n",
       "      <th>Team win_YES</th>\n",
       "      <th>PT team</th>\n",
       "      <th>Payroll_EUR</th>\n",
       "      <th>Stadium cap</th>\n",
       "    </tr>\n",
       "  </thead>\n",
       "  <tbody>\n",
       "    <tr>\n",
       "      <th>0</th>\n",
       "      <td>Premier League</td>\n",
       "      <td>West Ham</td>\n",
       "      <td>Manchester City</td>\n",
       "      <td>84.0</td>\n",
       "      <td>ST</td>\n",
       "      <td>0</td>\n",
       "      <td>0</td>\n",
       "      <td>1</td>\n",
       "      <td>Manchester City</td>\n",
       "      <td>1.699231e+10</td>\n",
       "      <td>35345.0</td>\n",
       "    </tr>\n",
       "    <tr>\n",
       "      <th>0</th>\n",
       "      <td>Premier League</td>\n",
       "      <td>West Ham</td>\n",
       "      <td>Manchester City</td>\n",
       "      <td>84.0</td>\n",
       "      <td>ST</td>\n",
       "      <td>0</td>\n",
       "      <td>0</td>\n",
       "      <td>1</td>\n",
       "      <td>Manchester City</td>\n",
       "      <td>1.699231e+10</td>\n",
       "      <td>60000.0</td>\n",
       "    </tr>\n",
       "    <tr>\n",
       "      <th>1</th>\n",
       "      <td>Premier League</td>\n",
       "      <td>West Ham</td>\n",
       "      <td>Manchester City</td>\n",
       "      <td>86.0</td>\n",
       "      <td>ST</td>\n",
       "      <td>0</td>\n",
       "      <td>1</td>\n",
       "      <td>1</td>\n",
       "      <td>Manchester City</td>\n",
       "      <td>1.699231e+10</td>\n",
       "      <td>35345.0</td>\n",
       "    </tr>\n",
       "    <tr>\n",
       "      <th>1</th>\n",
       "      <td>Premier League</td>\n",
       "      <td>West Ham</td>\n",
       "      <td>Manchester City</td>\n",
       "      <td>86.0</td>\n",
       "      <td>ST</td>\n",
       "      <td>0</td>\n",
       "      <td>1</td>\n",
       "      <td>1</td>\n",
       "      <td>Manchester City</td>\n",
       "      <td>1.699231e+10</td>\n",
       "      <td>60000.0</td>\n",
       "    </tr>\n",
       "    <tr>\n",
       "      <th>2</th>\n",
       "      <td>Premier League</td>\n",
       "      <td>Manchester United</td>\n",
       "      <td>Chelsea</td>\n",
       "      <td>18.0</td>\n",
       "      <td>W</td>\n",
       "      <td>1</td>\n",
       "      <td>1</td>\n",
       "      <td>1</td>\n",
       "      <td>Manchester United</td>\n",
       "      <td>1.886843e+10</td>\n",
       "      <td>74994.0</td>\n",
       "    </tr>\n",
       "  </tbody>\n",
       "</table>\n",
       "</div>"
      ],
      "text/plain": [
       "      Competition          Home team        Away team  Minute PT position  \\\n",
       "0  Premier League           West Ham  Manchester City    84.0          ST   \n",
       "0  Premier League           West Ham  Manchester City    84.0          ST   \n",
       "1  Premier League           West Ham  Manchester City    86.0          ST   \n",
       "1  Premier League           West Ham  Manchester City    86.0          ST   \n",
       "2  Premier League  Manchester United          Chelsea    18.0           W   \n",
       "\n",
       "   Team taking pen_Home  Scored_YES  Team win_YES            PT team  \\\n",
       "0                     0           0             1    Manchester City   \n",
       "0                     0           0             1    Manchester City   \n",
       "1                     0           1             1    Manchester City   \n",
       "1                     0           1             1    Manchester City   \n",
       "2                     1           1             1  Manchester United   \n",
       "\n",
       "    Payroll_EUR  Stadium cap  \n",
       "0  1.699231e+10      35345.0  \n",
       "0  1.699231e+10      60000.0  \n",
       "1  1.699231e+10      35345.0  \n",
       "1  1.699231e+10      60000.0  \n",
       "2  1.886843e+10      74994.0  "
      ]
     },
     "execution_count": 5,
     "metadata": {},
     "output_type": "execute_result"
    }
   ],
   "source": [
    "penalty_payroll = penalty.join(payroll.set_index('Club'), on='PT team')\n",
    "data = penalty_payroll.join(capacity.set_index('HomeTeams'), on='Home team')\n",
    "data.head()"
   ]
  },
  {
   "cell_type": "markdown",
   "id": "9d913362",
   "metadata": {},
   "source": [
    "### Exploration"
   ]
  },
  {
   "cell_type": "code",
   "execution_count": 6,
   "id": "1e378014",
   "metadata": {},
   "outputs": [
    {
     "data": {
      "text/html": [
       "<div>\n",
       "<style scoped>\n",
       "    .dataframe tbody tr th:only-of-type {\n",
       "        vertical-align: middle;\n",
       "    }\n",
       "\n",
       "    .dataframe tbody tr th {\n",
       "        vertical-align: top;\n",
       "    }\n",
       "\n",
       "    .dataframe thead th {\n",
       "        text-align: right;\n",
       "    }\n",
       "</style>\n",
       "<table border=\"1\" class=\"dataframe\">\n",
       "  <thead>\n",
       "    <tr style=\"text-align: right;\">\n",
       "      <th></th>\n",
       "      <th>Scored_YES</th>\n",
       "      <th>Num_taken</th>\n",
       "      <th>Payroll_EUR</th>\n",
       "      <th>Stadium cap</th>\n",
       "      <th>Succ_rate</th>\n",
       "    </tr>\n",
       "    <tr>\n",
       "      <th>PT team</th>\n",
       "      <th></th>\n",
       "      <th></th>\n",
       "      <th></th>\n",
       "      <th></th>\n",
       "      <th></th>\n",
       "    </tr>\n",
       "  </thead>\n",
       "  <tbody>\n",
       "    <tr>\n",
       "      <th>Lazio</th>\n",
       "      <td>15</td>\n",
       "      <td>18</td>\n",
       "      <td>6.411000e+09</td>\n",
       "      <td>70634.0</td>\n",
       "      <td>0.833333</td>\n",
       "    </tr>\n",
       "    <tr>\n",
       "      <th>Juventus</th>\n",
       "      <td>14</td>\n",
       "      <td>15</td>\n",
       "      <td>2.527600e+10</td>\n",
       "      <td>41507.0</td>\n",
       "      <td>0.933333</td>\n",
       "    </tr>\n",
       "    <tr>\n",
       "      <th>Roma</th>\n",
       "      <td>12</td>\n",
       "      <td>14</td>\n",
       "      <td>1.158800e+10</td>\n",
       "      <td>70634.0</td>\n",
       "      <td>0.857143</td>\n",
       "    </tr>\n",
       "    <tr>\n",
       "      <th>Napoli</th>\n",
       "      <td>11</td>\n",
       "      <td>12</td>\n",
       "      <td>1.000600e+10</td>\n",
       "      <td>60240.0</td>\n",
       "      <td>0.916667</td>\n",
       "    </tr>\n",
       "    <tr>\n",
       "      <th>Atalanta</th>\n",
       "      <td>11</td>\n",
       "      <td>15</td>\n",
       "      <td>3.682000e+09</td>\n",
       "      <td>24726.0</td>\n",
       "      <td>0.733333</td>\n",
       "    </tr>\n",
       "    <tr>\n",
       "      <th>...</th>\n",
       "      <td>...</td>\n",
       "      <td>...</td>\n",
       "      <td>...</td>\n",
       "      <td>...</td>\n",
       "      <td>...</td>\n",
       "    </tr>\n",
       "    <tr>\n",
       "      <th>Paderborn</th>\n",
       "      <td>2</td>\n",
       "      <td>4</td>\n",
       "      <td>7.010000e+08</td>\n",
       "      <td>15000.0</td>\n",
       "      <td>0.500000</td>\n",
       "    </tr>\n",
       "    <tr>\n",
       "      <th>Montpellier</th>\n",
       "      <td>2</td>\n",
       "      <td>5</td>\n",
       "      <td>1.732000e+09</td>\n",
       "      <td>32939.0</td>\n",
       "      <td>0.400000</td>\n",
       "    </tr>\n",
       "    <tr>\n",
       "      <th>Brest</th>\n",
       "      <td>1</td>\n",
       "      <td>5</td>\n",
       "      <td>7.740000e+08</td>\n",
       "      <td>10169.0</td>\n",
       "      <td>0.200000</td>\n",
       "    </tr>\n",
       "    <tr>\n",
       "      <th>Aston Villa</th>\n",
       "      <td>1</td>\n",
       "      <td>3</td>\n",
       "      <td>5.833658e+09</td>\n",
       "      <td>42682.0</td>\n",
       "      <td>0.333333</td>\n",
       "    </tr>\n",
       "    <tr>\n",
       "      <th>Valencia</th>\n",
       "      <td>1</td>\n",
       "      <td>3</td>\n",
       "      <td>7.534000e+09</td>\n",
       "      <td>55000.0</td>\n",
       "      <td>0.333333</td>\n",
       "    </tr>\n",
       "  </tbody>\n",
       "</table>\n",
       "<p>76 rows × 5 columns</p>\n",
       "</div>"
      ],
      "text/plain": [
       "             Scored_YES  Num_taken   Payroll_EUR  Stadium cap  Succ_rate\n",
       "PT team                                                                 \n",
       "Lazio                15         18  6.411000e+09      70634.0   0.833333\n",
       "Juventus             14         15  2.527600e+10      41507.0   0.933333\n",
       "Roma                 12         14  1.158800e+10      70634.0   0.857143\n",
       "Napoli               11         12  1.000600e+10      60240.0   0.916667\n",
       "Atalanta             11         15  3.682000e+09      24726.0   0.733333\n",
       "...                 ...        ...           ...          ...        ...\n",
       "Paderborn             2          4  7.010000e+08      15000.0   0.500000\n",
       "Montpellier           2          5  1.732000e+09      32939.0   0.400000\n",
       "Brest                 1          5  7.740000e+08      10169.0   0.200000\n",
       "Aston Villa           1          3  5.833658e+09      42682.0   0.333333\n",
       "Valencia              1          3  7.534000e+09      55000.0   0.333333\n",
       "\n",
       "[76 rows x 5 columns]"
      ]
     },
     "execution_count": 6,
     "metadata": {},
     "output_type": "execute_result"
    }
   ],
   "source": [
    "# Getting the necessary information\n",
    "# SPRC stands for Success Rate, Payroll, Capacity\n",
    "SRPC = data[['PT team', 'Scored_YES']].groupby(by=['PT team']).sum()\\\n",
    "                                              .sort_values(['Scored_YES'], ascending=False)\n",
    "num_penalty = pd.DataFrame({\"Num_taken\": data[['PT team']].value_counts()}).reset_index()\n",
    "SRPC = SRPC.join(num_penalty.set_index('PT team'), on='PT team')\\\n",
    "                           .join(payroll.set_index('Club'), on='PT team')\\\n",
    "                           .join(capacity.set_index('HomeTeams'), on='PT team')\n",
    "# removing less than 2 penalties because they skew the success rate too much\n",
    "SRPC = SRPC[SRPC['Num_taken'] > 2].dropna()\n",
    "SRPC[\"Succ_rate\"] = SRPC[\"Scored_YES\"] / SRPC[\"Num_taken\"]\n",
    "SRPC"
   ]
  },
  {
   "cell_type": "code",
   "execution_count": 7,
   "id": "4a689740",
   "metadata": {},
   "outputs": [
    {
     "data": {
      "image/png": "[encoded data removed]",
      "text/plain": [
       "<Figure size 432x288 with 1 Axes>"
      ]
     },
     "metadata": {
      "needs_background": "light"
     },
     "output_type": "display_data"
    }
   ],
   "source": [
    "# number of penalties awarded to team against payroll\n",
    "plt.scatter(SRPC['Payroll_EUR'], SRPC['Num_taken'])\n",
    "plt.xlabel('Payroll (EUR)')\n",
    "plt.ylabel('Number of penalties awarded to them')\n",
    "plt.title('Payroll against number of penalties awarded')\n",
    "plt.show()"
   ]
  },
  {
   "cell_type": "code",
   "execution_count": 8,
   "id": "fa7cc266",
   "metadata": {},
   "outputs": [
    {
     "data": {
      "image/png": "[encoded data removed]",
      "text/plain": [
       "<Figure size 432x288 with 1 Axes>"
      ]
     },
     "metadata": {
      "needs_background": "light"
     },
     "output_type": "display_data"
    }
   ],
   "source": [
    "# number of penalties awarded to team against stadium capacity\n",
    "plt.scatter(SRPC['Stadium cap'], SRPC['Num_taken'])\n",
    "plt.xlabel('Stadium cap')\n",
    "plt.ylabel('Number of penalties awarded to them')\n",
    "plt.title('Stadium Capacity against number of penalties awarded')\n",
    "plt.show()"
   ]
  },
  {
   "cell_type": "markdown",
   "id": "26172641",
   "metadata": {},
   "source": [
    "### Exploring Linear Model"
   ]
  },
  {
   "cell_type": "code",
   "execution_count": 9,
   "id": "f4184801",
   "metadata": {},
   "outputs": [],
   "source": [
    "# Splitting the dataset\n",
    "from sklearn.model_selection import train_test_split\n",
    "np.random.seed(47)\n",
    "\n",
    "X_columns = ['Scored_YES', 'Num_taken', 'Payroll_EUR', 'Stadium cap']\n",
    "SRPC_data = SRPC[X_columns]\n",
    "X = SRPC_data\n",
    "Y = pd.Series(SRPC['Succ_rate'])\n",
    "\n",
    "X_train, X_test, Y_train, Y_test = train_test_split(X, Y, test_size=0.20)"
   ]
  },
  {
   "cell_type": "code",
   "execution_count": 10,
   "id": "8d3b7203",
   "metadata": {},
   "outputs": [
    {
     "data": {
      "image/png": "[encoded data removed]",
      "text/plain": [
       "<Figure size 432x288 with 1 Axes>"
      ]
     },
     "metadata": {
      "needs_background": "light"
     },
     "output_type": "display_data"
    }
   ],
   "source": [
    "# Quick linear model fitting\n",
    "import sklearn.linear_model as lm\n",
    "\n",
    "linear_model = lm.LinearRegression()\n",
    "\n",
    "# Fit your linear model\n",
    "linear_model.fit(X_train, Y_train)\n",
    "\n",
    "# Predict housing prices on the test set\n",
    "Y_pred = linear_model.predict(X_test)\n",
    "\n",
    "# Plot predicted vs true prices\n",
    "plt.scatter(Y_test, Y_pred, alpha=0.5)\n",
    "plt.xlabel(\"Success Rate\")\n",
    "plt.ylabel(\"Predicted Success Rate\")\n",
    "plt.title(\"Success Rate vs Predicted Success Rate\");"
   ]
  },
  {
   "cell_type": "markdown",
   "id": "933506be",
   "metadata": {},
   "source": [
    "**Comment:** The Success Rate and predicted Success Rate seems to be on a line. This might indicate a good linear model."
   ]
  },
  {
   "cell_type": "code",
   "execution_count": 11,
   "id": "9acc0e18",
   "metadata": {},
   "outputs": [
    {
     "name": "stdout",
     "output_type": "stream",
     "text": [
      "Training RMSE: 0.09780639484406435\n",
      "Test RMSE: 0.10030290104965428\n"
     ]
    }
   ],
   "source": [
    "# getting the root mean squared error\n",
    "def rmse(actual_y, predicted_y):\n",
    "    \"\"\"\n",
    "    Args:\n",
    "        predicted_y: an array of the prediction from the model\n",
    "        actual_y: an array of the groudtruth label\n",
    "        \n",
    "    Returns:\n",
    "        The root mean square error between the prediction and the groundtruth\n",
    "    \"\"\"\n",
    "    return np.sqrt(np.mean((actual_y - predicted_y)**2))\n",
    "\n",
    "train_error = rmse(Y_train, linear_model.predict(X_train))\n",
    "test_error = rmse(Y_test, Y_pred)\n",
    "\n",
    "print(\"Training RMSE:\", train_error)\n",
    "print(\"Test RMSE:\", test_error)"
   ]
  },
  {
   "cell_type": "markdown",
   "id": "aff71313",
   "metadata": {},
   "source": [
    "**Comment:** The Test RMSE is slightly higher than the training RMSE."
   ]
  },
  {
   "cell_type": "markdown",
   "id": "4dcbf916",
   "metadata": {},
   "source": [
    "### Adding more features"
   ]
  },
  {
   "cell_type": "code",
   "execution_count": 12,
   "id": "20c81c36",
   "metadata": {},
   "outputs": [
    {
     "data": {
      "text/html": [
       "<div>\n",
       "<style scoped>\n",
       "    .dataframe tbody tr th:only-of-type {\n",
       "        vertical-align: middle;\n",
       "    }\n",
       "\n",
       "    .dataframe tbody tr th {\n",
       "        vertical-align: top;\n",
       "    }\n",
       "\n",
       "    .dataframe thead th {\n",
       "        text-align: right;\n",
       "    }\n",
       "</style>\n",
       "<table border=\"1\" class=\"dataframe\">\n",
       "  <thead>\n",
       "    <tr style=\"text-align: right;\">\n",
       "      <th></th>\n",
       "      <th>Scored_YES</th>\n",
       "      <th>Num_taken</th>\n",
       "      <th>Payroll_EUR</th>\n",
       "      <th>Stadium cap</th>\n",
       "      <th>Scored_YES^2</th>\n",
       "      <th>sqrtScored_YES</th>\n",
       "      <th>Num_taken^2</th>\n",
       "      <th>sqrtNum_taken</th>\n",
       "      <th>Payroll_EUR^2</th>\n",
       "      <th>sqrtPayroll_EUR</th>\n",
       "      <th>Stadium cap^2</th>\n",
       "      <th>sqrtStadium cap</th>\n",
       "    </tr>\n",
       "    <tr>\n",
       "      <th>PT team</th>\n",
       "      <th></th>\n",
       "      <th></th>\n",
       "      <th></th>\n",
       "      <th></th>\n",
       "      <th></th>\n",
       "      <th></th>\n",
       "      <th></th>\n",
       "      <th></th>\n",
       "      <th></th>\n",
       "      <th></th>\n",
       "      <th></th>\n",
       "      <th></th>\n",
       "    </tr>\n",
       "  </thead>\n",
       "  <tbody>\n",
       "    <tr>\n",
       "      <th>Lazio</th>\n",
       "      <td>15</td>\n",
       "      <td>18</td>\n",
       "      <td>6.411000e+09</td>\n",
       "      <td>70634.0</td>\n",
       "      <td>225</td>\n",
       "      <td>3.873047</td>\n",
       "      <td>324</td>\n",
       "      <td>4.242641</td>\n",
       "      <td>4.110092e+19</td>\n",
       "      <td>80068.720484</td>\n",
       "      <td>4.989162e+09</td>\n",
       "      <td>265.770578</td>\n",
       "    </tr>\n",
       "    <tr>\n",
       "      <th>Juventus</th>\n",
       "      <td>14</td>\n",
       "      <td>15</td>\n",
       "      <td>2.527600e+10</td>\n",
       "      <td>41507.0</td>\n",
       "      <td>196</td>\n",
       "      <td>3.742188</td>\n",
       "      <td>225</td>\n",
       "      <td>3.872983</td>\n",
       "      <td>6.388762e+20</td>\n",
       "      <td>158984.275952</td>\n",
       "      <td>1.722831e+09</td>\n",
       "      <td>203.732668</td>\n",
       "    </tr>\n",
       "    <tr>\n",
       "      <th>Roma</th>\n",
       "      <td>12</td>\n",
       "      <td>14</td>\n",
       "      <td>1.158800e+10</td>\n",
       "      <td>70634.0</td>\n",
       "      <td>144</td>\n",
       "      <td>3.464844</td>\n",
       "      <td>196</td>\n",
       "      <td>3.741657</td>\n",
       "      <td>1.342817e+20</td>\n",
       "      <td>107647.573126</td>\n",
       "      <td>4.989162e+09</td>\n",
       "      <td>265.770578</td>\n",
       "    </tr>\n",
       "    <tr>\n",
       "      <th>Napoli</th>\n",
       "      <td>11</td>\n",
       "      <td>12</td>\n",
       "      <td>1.000600e+10</td>\n",
       "      <td>60240.0</td>\n",
       "      <td>121</td>\n",
       "      <td>3.316406</td>\n",
       "      <td>144</td>\n",
       "      <td>3.464102</td>\n",
       "      <td>1.001200e+20</td>\n",
       "      <td>100029.995501</td>\n",
       "      <td>3.628858e+09</td>\n",
       "      <td>245.438383</td>\n",
       "    </tr>\n",
       "    <tr>\n",
       "      <th>Atalanta</th>\n",
       "      <td>11</td>\n",
       "      <td>15</td>\n",
       "      <td>3.682000e+09</td>\n",
       "      <td>24726.0</td>\n",
       "      <td>121</td>\n",
       "      <td>3.316406</td>\n",
       "      <td>225</td>\n",
       "      <td>3.872983</td>\n",
       "      <td>1.355712e+19</td>\n",
       "      <td>60679.485825</td>\n",
       "      <td>6.113751e+08</td>\n",
       "      <td>157.245032</td>\n",
       "    </tr>\n",
       "  </tbody>\n",
       "</table>\n",
       "</div>"
      ],
      "text/plain": [
       "          Scored_YES  Num_taken   Payroll_EUR  Stadium cap  Scored_YES^2  \\\n",
       "PT team                                                                    \n",
       "Lazio             15         18  6.411000e+09      70634.0           225   \n",
       "Juventus          14         15  2.527600e+10      41507.0           196   \n",
       "Roma              12         14  1.158800e+10      70634.0           144   \n",
       "Napoli            11         12  1.000600e+10      60240.0           121   \n",
       "Atalanta          11         15  3.682000e+09      24726.0           121   \n",
       "\n",
       "          sqrtScored_YES  Num_taken^2  sqrtNum_taken  Payroll_EUR^2  \\\n",
       "PT team                                                               \n",
       "Lazio           3.873047          324       4.242641   4.110092e+19   \n",
       "Juventus        3.742188          225       3.872983   6.388762e+20   \n",
       "Roma            3.464844          196       3.741657   1.342817e+20   \n",
       "Napoli          3.316406          144       3.464102   1.001200e+20   \n",
       "Atalanta        3.316406          225       3.872983   1.355712e+19   \n",
       "\n",
       "          sqrtPayroll_EUR  Stadium cap^2  sqrtStadium cap  \n",
       "PT team                                                    \n",
       "Lazio        80068.720484   4.989162e+09       265.770578  \n",
       "Juventus    158984.275952   1.722831e+09       203.732668  \n",
       "Roma        107647.573126   4.989162e+09       265.770578  \n",
       "Napoli      100029.995501   3.628858e+09       245.438383  \n",
       "Atalanta     60679.485825   6.113751e+08       157.245032  "
      ]
     },
     "execution_count": 12,
     "metadata": {},
     "output_type": "execute_result"
    }
   ],
   "source": [
    "# adding square and square root of every feature to the design matric=x\n",
    "SRPC_ext_features = SRPC_data.copy()\n",
    "for feature_name in SRPC_data.columns:\n",
    "    SRPC_ext_features[feature_name + \"^2\"] = SRPC_ext_features[feature_name] ** 2\n",
    "    SRPC_ext_features[\"sqrt\" + feature_name] = np.sqrt(SRPC_ext_features[feature_name])\n",
    "SRPC_ext_features.head()"
   ]
  },
  {
   "cell_type": "code",
   "execution_count": 13,
   "id": "92ca5989",
   "metadata": {},
   "outputs": [],
   "source": [
    "# fitting the linear model with the extra features\n",
    "np.random.seed(32)\n",
    "X = SRPC_ext_features\n",
    "X_train2, X_test2, Y_train2, Y_test2 = train_test_split(X, Y, test_size = 0.20)\n",
    "linear_model.fit(X_train2, Y_train2);"
   ]
  },
  {
   "cell_type": "code",
   "execution_count": 14,
   "id": "c336693f",
   "metadata": {},
   "outputs": [
    {
     "name": "stdout",
     "output_type": "stream",
     "text": [
      "Training RMSE: 0.1934056286355309\n",
      "Test RMSE: 0.22788243713079256\n"
     ]
    }
   ],
   "source": [
    "# calculatin the RMSE again\n",
    "train_error2 = rmse(Y_train2, linear_model.predict(X_train2)) \n",
    "test_error2 = rmse(Y_test2, linear_model.predict(X_test2))\n",
    "\n",
    "print(\"Training RMSE:\", train_error2)\n",
    "print(\"Test RMSE:\", test_error2)"
   ]
  },
  {
   "cell_type": "markdown",
   "id": "ebd10889",
   "metadata": {},
   "source": [
    "**Comment:** Interestingly, our RMSE doubled. This clearly indicates the issue with overfitting. Now we try to plot how the RMSE changes with increasing number of features."
   ]
  },
  {
   "cell_type": "code",
   "execution_count": 15,
   "id": "56150e13",
   "metadata": {},
   "outputs": [],
   "source": [
    "# get the range of number of features\n",
    "range_of_num_features = range(1, X_train2.shape[1] + 1)"
   ]
  },
  {
   "cell_type": "code",
   "execution_count": 16,
   "id": "fe259f55",
   "metadata": {},
   "outputs": [
    {
     "data": {
      "image/png": "[encoded data removed]",
      "text/plain": [
       "<Figure size 720x432 with 1 Axes>"
      ]
     },
     "metadata": {
      "needs_background": "light"
     },
     "output_type": "display_data"
    }
   ],
   "source": [
    "# plotting the graph\n",
    "train_error_vs_N = []\n",
    "test_error_vs_N = []\n",
    "\n",
    "for N in range_of_num_features:\n",
    "    X_train_first_N_features = X_train2.iloc[:, :N]    \n",
    "    \n",
    "    linear_model.fit(X_train_first_N_features, Y_train2)\n",
    "    train_error_overfit = rmse(Y_train2, linear_model.predict(X_train_first_N_features))\n",
    "    train_error_vs_N.append(train_error_overfit)\n",
    "    \n",
    "    X_test_first_N_features = X_test2.iloc[:, :N]\n",
    "    test_error_overfit = rmse(Y_test2, linear_model.predict(X_test_first_N_features))    \n",
    "    test_error_vs_N.append(test_error_overfit)\n",
    "    \n",
    "plt.figure(figsize=(10, 6))\n",
    "plt.plot(range_of_num_features, train_error_vs_N)\n",
    "plt.plot(range_of_num_features, test_error_vs_N)\n",
    "plt.legend([\"training error\", \"test error\"])\n",
    "plt.title('RMSE vs Number of Features')\n",
    "plt.xlabel(\"number of features\")\n",
    "plt.ylabel(\"RMSE\");"
   ]
  },
  {
   "cell_type": "markdown",
   "id": "c753d9a7",
   "metadata": {},
   "source": [
    "**Comment:** The minimum RMSE for both training and test error is when the number of features is around 7-8. the issue of overfitting is apparent when the number of features go beyond 9."
   ]
  },
  {
   "cell_type": "markdown",
   "id": "e887586a",
   "metadata": {},
   "source": [
    "### Cross-Validation"
   ]
  },
  {
   "cell_type": "markdown",
   "id": "f79ee8b3",
   "metadata": {},
   "source": [
    "We are not going to use the plot above to find the optimal number of features. We are going to use cross validation to determine which feature set to use. We are going to consider $2^{12}$ different models. "
   ]
  },
  {
   "cell_type": "code",
   "execution_count": 17,
   "id": "7b3ddd52",
   "metadata": {},
   "outputs": [
    {
     "data": {
      "text/plain": [
       "0.20912027212523748"
      ]
     },
     "execution_count": 17,
     "metadata": {},
     "output_type": "execute_result"
    }
   ],
   "source": [
    "# getting the mean RMSE from a CV dataset\n",
    "from sklearn.model_selection import KFold\n",
    "\n",
    "def compute_CV_error(model, X_train, Y_train):\n",
    "    '''\n",
    "    Split the training data into 4 subsets.\n",
    "    For each subset, \n",
    "        fit a model holding out that subset\n",
    "        compute the RMSE on that subset (the validation set)\n",
    "    You should be fitting 4 models total.\n",
    "    Return the average RMSE of these 4 folds.\n",
    "\n",
    "    Args:\n",
    "        model: an sklearn model with fit and predict functions \n",
    "        X_train (data_frame): Training data\n",
    "        Y_train (data_frame): Label \n",
    "\n",
    "    Return:\n",
    "        the average validation RMSE for the 4 splits.\n",
    "    '''\n",
    "    kf = KFold(n_splits=4)\n",
    "    validation_errors = []\n",
    "    \n",
    "    for train_idx, valid_idx in kf.split(X_train):\n",
    "        # split the data\n",
    "        split_X_train, split_X_valid = X_train.iloc[train_idx, :], X_train.iloc[valid_idx, :]\n",
    "        split_Y_train, split_Y_valid = Y_train.iloc[train_idx], Y_train.iloc[valid_idx]\n",
    "\n",
    "        # Fit the model on the training split\n",
    "        model.fit(split_X_train, split_Y_train)\n",
    "        \n",
    "        \n",
    "        # Compute the RMSE on the validation split\n",
    "        error = rmse(split_Y_valid, model.predict(split_X_valid))\n",
    "\n",
    "\n",
    "        validation_errors.append(error)\n",
    "        \n",
    "    return np.mean(validation_errors)\n",
    "\n",
    "compute_CV_error(lm.LinearRegression(),X_train2,Y_train2)"
   ]
  },
  {
   "cell_type": "code",
   "execution_count": 18,
   "id": "2dfd6d4f",
   "metadata": {},
   "outputs": [
    {
     "data": {
      "text/html": [
       "<div>\n",
       "<style scoped>\n",
       "    .dataframe tbody tr th:only-of-type {\n",
       "        vertical-align: middle;\n",
       "    }\n",
       "\n",
       "    .dataframe tbody tr th {\n",
       "        vertical-align: top;\n",
       "    }\n",
       "\n",
       "    .dataframe thead th {\n",
       "        text-align: right;\n",
       "    }\n",
       "</style>\n",
       "<table border=\"1\" class=\"dataframe\">\n",
       "  <thead>\n",
       "    <tr style=\"text-align: right;\">\n",
       "      <th></th>\n",
       "      <th>Num_taken</th>\n",
       "      <th>Stadium cap</th>\n",
       "    </tr>\n",
       "    <tr>\n",
       "      <th>PT team</th>\n",
       "      <th></th>\n",
       "      <th></th>\n",
       "    </tr>\n",
       "  </thead>\n",
       "  <tbody>\n",
       "    <tr>\n",
       "      <th>Lazio</th>\n",
       "      <td>18</td>\n",
       "      <td>70634.0</td>\n",
       "    </tr>\n",
       "    <tr>\n",
       "      <th>Juventus</th>\n",
       "      <td>15</td>\n",
       "      <td>41507.0</td>\n",
       "    </tr>\n",
       "    <tr>\n",
       "      <th>Roma</th>\n",
       "      <td>14</td>\n",
       "      <td>70634.0</td>\n",
       "    </tr>\n",
       "    <tr>\n",
       "      <th>Napoli</th>\n",
       "      <td>12</td>\n",
       "      <td>60240.0</td>\n",
       "    </tr>\n",
       "    <tr>\n",
       "      <th>Atalanta</th>\n",
       "      <td>15</td>\n",
       "      <td>24726.0</td>\n",
       "    </tr>\n",
       "    <tr>\n",
       "      <th>...</th>\n",
       "      <td>...</td>\n",
       "      <td>...</td>\n",
       "    </tr>\n",
       "    <tr>\n",
       "      <th>Paderborn</th>\n",
       "      <td>4</td>\n",
       "      <td>15000.0</td>\n",
       "    </tr>\n",
       "    <tr>\n",
       "      <th>Montpellier</th>\n",
       "      <td>5</td>\n",
       "      <td>32939.0</td>\n",
       "    </tr>\n",
       "    <tr>\n",
       "      <th>Brest</th>\n",
       "      <td>5</td>\n",
       "      <td>10169.0</td>\n",
       "    </tr>\n",
       "    <tr>\n",
       "      <th>Aston Villa</th>\n",
       "      <td>3</td>\n",
       "      <td>42682.0</td>\n",
       "    </tr>\n",
       "    <tr>\n",
       "      <th>Valencia</th>\n",
       "      <td>3</td>\n",
       "      <td>55000.0</td>\n",
       "    </tr>\n",
       "  </tbody>\n",
       "</table>\n",
       "<p>76 rows × 2 columns</p>\n",
       "</div>"
      ],
      "text/plain": [
       "             Num_taken  Stadium cap\n",
       "PT team                            \n",
       "Lazio               18      70634.0\n",
       "Juventus            15      41507.0\n",
       "Roma                14      70634.0\n",
       "Napoli              12      60240.0\n",
       "Atalanta            15      24726.0\n",
       "...                ...          ...\n",
       "Paderborn            4      15000.0\n",
       "Montpellier          5      32939.0\n",
       "Brest                5      10169.0\n",
       "Aston Villa          3      42682.0\n",
       "Valencia             3      55000.0\n",
       "\n",
       "[76 rows x 2 columns]"
      ]
     },
     "execution_count": 18,
     "metadata": {},
     "output_type": "execute_result"
    }
   ],
   "source": [
    "SRPC_ext_features.iloc[:,[1, 3]]"
   ]
  },
  {
   "cell_type": "code",
   "execution_count": 19,
   "id": "b1a85975",
   "metadata": {},
   "outputs": [
    {
     "data": {
      "text/plain": [
       "[(0, 3, 4, 5, 9),\n",
       " (0, 3, 4, 5, 10),\n",
       " (0, 3, 4, 5, 11),\n",
       " (0, 3, 4, 6, 7),\n",
       " (0, 3, 4, 6, 8)]"
      ]
     },
     "execution_count": 19,
     "metadata": {},
     "output_type": "execute_result"
    }
   ],
   "source": [
    "# getting all 2^12 possible combinations of features index\n",
    "import itertools\n",
    "\n",
    "combinations = []\n",
    "index = list(range(12))\n",
    "\n",
    "for i in range(1, len(index) + 1):\n",
    "    combinations.extend(list(itertools.combinations(index, i)))\n",
    "\n",
    "combinations[1000:1005]"
   ]
  },
  {
   "cell_type": "code",
   "execution_count": 20,
   "id": "bdf7719c",
   "metadata": {},
   "outputs": [
    {
     "name": "stdout",
     "output_type": "stream",
     "text": [
      "Best features index is (0, 2, 5, 6, 7) with CV error of 0.024356658695938182\n"
     ]
    }
   ],
   "source": [
    "# getting the best features combination\n",
    "best_features_index = None\n",
    "lowest_error = None\n",
    "for combi in combinations:\n",
    "    model = lm.LinearRegression()\n",
    "    \n",
    "    # computing the cross validation error\n",
    "    X_train_selected_features = X_train2.iloc[:, list(combi)] \n",
    "    error = compute_CV_error(model, X_train_selected_features, Y_train2)\n",
    "    \n",
    "    # updating record if there is better result\n",
    "    if (not lowest_error) or error < lowest_error:\n",
    "        best_features_index = combi\n",
    "        lowest_error = error\n",
    "\n",
    "print(f\"Best features index is {best_features_index} with CV error of {lowest_error}\")"
   ]
  },
  {
   "cell_type": "markdown",
   "id": "a57f50b5",
   "metadata": {},
   "source": [
    "### Dataset with features of the lowest CV error"
   ]
  },
  {
   "cell_type": "code",
   "execution_count": 21,
   "id": "4997d275",
   "metadata": {},
   "outputs": [
    {
     "data": {
      "text/html": [
       "<div>\n",
       "<style scoped>\n",
       "    .dataframe tbody tr th:only-of-type {\n",
       "        vertical-align: middle;\n",
       "    }\n",
       "\n",
       "    .dataframe tbody tr th {\n",
       "        vertical-align: top;\n",
       "    }\n",
       "\n",
       "    .dataframe thead th {\n",
       "        text-align: right;\n",
       "    }\n",
       "</style>\n",
       "<table border=\"1\" class=\"dataframe\">\n",
       "  <thead>\n",
       "    <tr style=\"text-align: right;\">\n",
       "      <th></th>\n",
       "      <th>Scored_YES</th>\n",
       "      <th>Payroll_EUR</th>\n",
       "      <th>sqrtScored_YES</th>\n",
       "      <th>Num_taken^2</th>\n",
       "      <th>sqrtNum_taken</th>\n",
       "    </tr>\n",
       "    <tr>\n",
       "      <th>PT team</th>\n",
       "      <th></th>\n",
       "      <th></th>\n",
       "      <th></th>\n",
       "      <th></th>\n",
       "      <th></th>\n",
       "    </tr>\n",
       "  </thead>\n",
       "  <tbody>\n",
       "    <tr>\n",
       "      <th>Verona</th>\n",
       "      <td>8</td>\n",
       "      <td>2.735000e+09</td>\n",
       "      <td>2.828125</td>\n",
       "      <td>81</td>\n",
       "      <td>3.000000</td>\n",
       "    </tr>\n",
       "    <tr>\n",
       "      <th>Lyon</th>\n",
       "      <td>7</td>\n",
       "      <td>6.294000e+09</td>\n",
       "      <td>2.646484</td>\n",
       "      <td>81</td>\n",
       "      <td>3.000000</td>\n",
       "    </tr>\n",
       "    <tr>\n",
       "      <th>Nice</th>\n",
       "      <td>5</td>\n",
       "      <td>2.463000e+09</td>\n",
       "      <td>2.236328</td>\n",
       "      <td>25</td>\n",
       "      <td>2.236068</td>\n",
       "    </tr>\n",
       "    <tr>\n",
       "      <th>Barcelona</th>\n",
       "      <td>3</td>\n",
       "      <td>3.351800e+10</td>\n",
       "      <td>1.732422</td>\n",
       "      <td>9</td>\n",
       "      <td>1.732051</td>\n",
       "    </tr>\n",
       "    <tr>\n",
       "      <th>Lille</th>\n",
       "      <td>5</td>\n",
       "      <td>3.130000e+09</td>\n",
       "      <td>2.236328</td>\n",
       "      <td>64</td>\n",
       "      <td>2.828427</td>\n",
       "    </tr>\n",
       "  </tbody>\n",
       "</table>\n",
       "</div>"
      ],
      "text/plain": [
       "           Scored_YES   Payroll_EUR  sqrtScored_YES  Num_taken^2  \\\n",
       "PT team                                                            \n",
       "Verona              8  2.735000e+09        2.828125           81   \n",
       "Lyon                7  6.294000e+09        2.646484           81   \n",
       "Nice                5  2.463000e+09        2.236328           25   \n",
       "Barcelona           3  3.351800e+10        1.732422            9   \n",
       "Lille               5  3.130000e+09        2.236328           64   \n",
       "\n",
       "           sqrtNum_taken  \n",
       "PT team                   \n",
       "Verona          3.000000  \n",
       "Lyon            3.000000  \n",
       "Nice            2.236068  \n",
       "Barcelona       1.732051  \n",
       "Lille           2.828427  "
      ]
     },
     "execution_count": 21,
     "metadata": {},
     "output_type": "execute_result"
    }
   ],
   "source": [
    "X_train_best_features = X_train2.iloc[:, list(best_features_index)] \n",
    "X_train_best_features.head()"
   ]
  },
  {
   "cell_type": "markdown",
   "id": "2e92e728",
   "metadata": {},
   "source": [
    "**Comment:** Interestingly, we see how the stadium capacity is being ommitted out of the features. This might mean that the stadium capacity does not really have a significant impact on the team's success rate. Moreover, we see how the number of penalties taken appears more than once. This might suggest that teams that have taken more penalty get better at converting their penalties to goals. "
   ]
  },
  {
   "cell_type": "markdown",
   "id": "82d662bb",
   "metadata": {},
   "source": [
    "**We will be using these selected features for our prediction.**"
   ]
  },
  {
   "cell_type": "markdown",
   "id": "836e7038",
   "metadata": {},
   "source": [
    "## Research Question"
   ]
  },
  {
   "cell_type": "markdown",
   "id": "135a0062",
   "metadata": {},
   "source": [
    "**Does the number of penalties score, number of penalties taken, team’s payroll (total salary paid annually), and stadium capacity influence the team's penalty success rate?** "
   ]
  },
  {
   "cell_type": "markdown",
   "id": "9b312da1",
   "metadata": {},
   "source": [
    "TODO"
   ]
  },
  {
   "cell_type": "markdown",
   "id": "b2ba167d",
   "metadata": {},
   "source": [
    "## Prediction"
   ]
  },
  {
   "cell_type": "code",
   "execution_count": 22,
   "id": "54f56a95",
   "metadata": {},
   "outputs": [
    {
     "name": "stdout",
     "output_type": "stream",
     "text": [
      "Train RMSE 0.02313072811953916\n",
      "KFold Validation RMSE 0.024356658695938182\n",
      "Test RMSE 0.052427471506924214\n"
     ]
    }
   ],
   "source": [
    "# Fitting the linear model\n",
    "model = linear_model.fit(X_train_best_features, Y_train2)\n",
    "\n",
    "# Predict points from our test set and calculate the rmse\n",
    "train_rmse = rmse(Y_train2, model.predict(X_train_best_features))\n",
    "test_rmse = rmse(Y_test2, model.predict(X_test2.iloc[:, list(best_features_index)]))\n",
    "\n",
    "print(\"Train RMSE\", train_rmse)\n",
    "print(\"KFold Validation RMSE\", lowest_error)\n",
    "print(\"Test RMSE\", test_rmse)"
   ]
  },
  {
   "cell_type": "markdown",
   "id": "6249a178",
   "metadata": {},
   "source": [
    "**Comment:** As we can see, the test RMSE is much lower than our initial test RMSE without feature engineering."
   ]
  },
  {
   "cell_type": "code",
   "execution_count": 23,
   "id": "5516db8f",
   "metadata": {},
   "outputs": [
    {
     "data": {
      "image/png": "[encoded data removed]",
      "text/plain": [
       "<Figure size 720x432 with 1 Axes>"
      ]
     },
     "metadata": {
      "needs_background": "light"
     },
     "output_type": "display_data"
    }
   ],
   "source": [
    "# Plotting the residual plot\n",
    "plt.figure(figsize=(10, 6))\n",
    "fitted_values = model.predict(X_test2.iloc[:, list(best_features_index)])\n",
    "plt.scatter(fitted_values, Y_test2 - fitted_values)\n",
    "plt.xlabel('Fitted Values')\n",
    "plt.ylabel('residual (true y - estimated y)')\n",
    "plt.title(\"Residual of prediction for i'th house\")\n",
    "plt.axhline(y = 0, color='r');"
   ]
  },
  {
   "cell_type": "markdown",
   "id": "306e6446",
   "metadata": {},
   "source": [
    "**Comment:** The plots are generally scattered around the line $y = 0$, which is a good indication that the linear regression model is good."
   ]
  },
  {
   "cell_type": "markdown",
   "id": "eb3e2046",
   "metadata": {},
   "source": [
    "### Predicting"
   ]
  },
  {
   "cell_type": "code",
   "execution_count": 25,
   "id": "0e4fa19c",
   "metadata": {},
   "outputs": [
    {
     "name": "stdout",
     "output_type": "stream",
     "text": [
      "Given the parameters where 15 penalties taken, 15 penalties scored, and payroll EUR 1000000000.0, the success rate is 0.5685367084642559.\n"
     ]
    }
   ],
   "source": [
    "# fill up these parameters\n",
    "p_num_penalties_taken = 15\n",
    "p_num_penalties_scored = 15\n",
    "p_payroll = 1e9\n",
    "\n",
    "X_predict_data = {\n",
    "    'Scored_YES': [p_num_penalties_scored],\n",
    "    'Payroll_EUR': [p_payroll],\n",
    "    'sqrtScored_YES': [np.sqrt(p_num_penalties_scored)],\n",
    "    'Num_taken^2': [p_num_penalties_taken^2],\n",
    "    'sqrtNum_taken': [np.sqrt(p_num_penalties_taken)]\n",
    "    \n",
    "}\n",
    "X_predict = pd.DataFrame(data = X_predict_data,\n",
    "                        columns= ['Scored_YES', 'Payroll_EUR', 'sqrtScored_YES', 'Num_taken^2',\n",
    "       'sqrtNum_taken'])\n",
    "res = model.predict(X_predict)\n",
    "\n",
    "print(f\"Given the parameters where {p_num_penalties_taken} penalties taken, {p_num_penalties_scored} penalties scored, and payroll EUR {p_payroll}, the success rate is {res[0]}.\")"
   ]
  },
  {
   "cell_type": "markdown",
   "id": "12536be4",
   "metadata": {},
   "source": [
    "## Conclusion"
   ]
  },
  {
   "cell_type": "markdown",
   "id": "7e862cd7",
   "metadata": {},
   "source": [
    "TODO"
   ]
  }
 ],
 "metadata": {
  "kernelspec": {
   "display_name": "Python 3 (ipykernel)",
   "language": "python",
   "name": "python3"
  },
  "language_info": {
   "codemirror_mode": {
    "name": "ipython",
    "version": 3
   },
   "file_extension": ".py",
   "mimetype": "text/x-python",
   "name": "python",
   "nbconvert_exporter": "python",
   "pygments_lexer": "ipython3",
   "version": "3.8.3"
  }
 },
 "nbformat": 4,
 "nbformat_minor": 5
}
