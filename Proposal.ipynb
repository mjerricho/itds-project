{
 "cells": [
  {
   "cell_type": "markdown",
   "id": "ff6d6217",
   "metadata": {},
   "source": [
    "# Proposal\n",
    "By Marcellinus Jerricho, Edward Jeremy Lo, Rana Harris Farooq"
   ]
  },
  {
   "cell_type": "markdown",
   "id": "565c8b1d",
   "metadata": {},
   "source": [
    "## Content\n",
    "This proposal contains the following:\n",
    "1. [Data](#Data)\n",
    "2. [Research Questions](#Research-Questions)\n",
    "3. [Exploratory Data Analysis](#Exploratory-Data-Analysis)\n",
    "4. [Timeline](#Timeline)\n",
    "5. [Teamwork](#Teamwork)"
   ]
  },
  {
   "cell_type": "code",
   "execution_count": 1,
   "id": "f73f7b5b",
   "metadata": {},
   "outputs": [],
   "source": [
    "# importing necessary modules\n",
    "import pandas as pd\n",
    "import numpy as np\n",
    "import os\n",
    "import re\n",
    "import matplotlib.pyplot as plt\n",
    "np.random.seed(42)\n",
    "plt.style.use('fivethirtyeight')\n",
    "%matplotlib inline"
   ]
  },
  {
   "cell_type": "markdown",
   "id": "9a84e4a1",
   "metadata": {},
   "source": [
    "## Data"
   ]
  },
  {
   "cell_type": "markdown",
   "id": "a8786052",
   "metadata": {},
   "source": [
    "### Penalties"
   ]
  },
  {
   "cell_type": "markdown",
   "id": "221118fd",
   "metadata": {},
   "source": [
    "The [first dataset](https://www.kaggle.com/emilerichard/penalty-statistics-20192020) is about football penalty kicks from the 2019-2020 season from Bundesliga, Serie A, Ligue 1, English Premier League, and the European Champions League. The dataset contains:\n",
    "1. Name of the league of the match\n",
    "2. Date of the match\n",
    "3. The names of home and away team\n",
    "4. The name of the team taking the penalty\n",
    "5. The name of the player taking the penalty\n",
    "6. The minute of the game the penalty happened\n",
    "7. A description on whether the penalty changes the result\n",
    "8. A description on whether the penalty became a goal\n",
    "9. A description on whether the penalty taker is a substitute\n",
    "10. The penalty taker’s position\n",
    "11. A description on whether the team that got the penalty won the match\n",
    "12. Whether the penalty became the last goal of the match. \n",
    "We found the data set from Kaggle; it has 494 observations. This dataset has 3 predictors: the time penalty is taken, home/away status, and player position. "
   ]
  },
  {
   "cell_type": "code",
   "execution_count": 2,
   "id": "37b0a919",
   "metadata": {},
   "outputs": [
    {
     "data": {
      "text/html": [
       "<div>\n",
       "<style scoped>\n",
       "    .dataframe tbody tr th:only-of-type {\n",
       "        vertical-align: middle;\n",
       "    }\n",
       "\n",
       "    .dataframe tbody tr th {\n",
       "        vertical-align: top;\n",
       "    }\n",
       "\n",
       "    .dataframe thead th {\n",
       "        text-align: right;\n",
       "    }\n",
       "</style>\n",
       "<table border=\"1\" class=\"dataframe\">\n",
       "  <thead>\n",
       "    <tr style=\"text-align: right;\">\n",
       "      <th></th>\n",
       "      <th>Id</th>\n",
       "      <th>Competition</th>\n",
       "      <th>Home team</th>\n",
       "      <th>Away team</th>\n",
       "      <th>Team taking pen</th>\n",
       "      <th>Minute</th>\n",
       "      <th>Scored</th>\n",
       "      <th>PT position</th>\n",
       "      <th>Team win</th>\n",
       "    </tr>\n",
       "  </thead>\n",
       "  <tbody>\n",
       "    <tr>\n",
       "      <th>0</th>\n",
       "      <td>1</td>\n",
       "      <td>Premier League</td>\n",
       "      <td>West Ham</td>\n",
       "      <td>Manchester City</td>\n",
       "      <td>Away</td>\n",
       "      <td>84.0</td>\n",
       "      <td>NO</td>\n",
       "      <td>ST</td>\n",
       "      <td>YES</td>\n",
       "    </tr>\n",
       "    <tr>\n",
       "      <th>1</th>\n",
       "      <td>2</td>\n",
       "      <td>Premier League</td>\n",
       "      <td>West Ham</td>\n",
       "      <td>Manchester City</td>\n",
       "      <td>Away</td>\n",
       "      <td>86.0</td>\n",
       "      <td>YES</td>\n",
       "      <td>ST</td>\n",
       "      <td>YES</td>\n",
       "    </tr>\n",
       "    <tr>\n",
       "      <th>2</th>\n",
       "      <td>3</td>\n",
       "      <td>Premier League</td>\n",
       "      <td>Manchester United</td>\n",
       "      <td>Chelsea</td>\n",
       "      <td>Home</td>\n",
       "      <td>18.0</td>\n",
       "      <td>YES</td>\n",
       "      <td>W</td>\n",
       "      <td>YES</td>\n",
       "    </tr>\n",
       "    <tr>\n",
       "      <th>3</th>\n",
       "      <td>4</td>\n",
       "      <td>Premier League</td>\n",
       "      <td>Aston Villa</td>\n",
       "      <td>Bournemouth</td>\n",
       "      <td>Away</td>\n",
       "      <td>2.0</td>\n",
       "      <td>YES</td>\n",
       "      <td>OM</td>\n",
       "      <td>YES</td>\n",
       "    </tr>\n",
       "    <tr>\n",
       "      <th>4</th>\n",
       "      <td>5</td>\n",
       "      <td>Premier League</td>\n",
       "      <td>Wolverhampton</td>\n",
       "      <td>Manchester United</td>\n",
       "      <td>Away</td>\n",
       "      <td>68.0</td>\n",
       "      <td>NO</td>\n",
       "      <td>DM</td>\n",
       "      <td>NO</td>\n",
       "    </tr>\n",
       "  </tbody>\n",
       "</table>\n",
       "</div>"
      ],
      "text/plain": [
       "   Id     Competition          Home team          Away team Team taking pen  \\\n",
       "0   1  Premier League           West Ham    Manchester City            Away   \n",
       "1   2  Premier League           West Ham    Manchester City            Away   \n",
       "2   3  Premier League  Manchester United            Chelsea            Home   \n",
       "3   4  Premier League        Aston Villa        Bournemouth            Away   \n",
       "4   5  Premier League      Wolverhampton  Manchester United            Away   \n",
       "\n",
       "   Minute Scored PT position Team win  \n",
       "0    84.0     NO          ST      YES  \n",
       "1    86.0    YES          ST      YES  \n",
       "2    18.0    YES           W      YES  \n",
       "3     2.0    YES          OM      YES  \n",
       "4    68.0     NO          DM       NO  "
      ]
     },
     "execution_count": 2,
     "metadata": {},
     "output_type": "execute_result"
    }
   ],
   "source": [
    "# initial raw data\n",
    "# PT = Penalty Taker\n",
    "columns_to_drop = ['Pen taker', 'Journee', 'Date', \n",
    "                   'LtD game-changing pen', 'DtW game-changing pen', \n",
    "                   'L no game-changing', 'W no game-changing', 'PT sub', 'Last Goal']\n",
    "penalty_stats = pd.read_csv('penalty_stats_19_20.csv').drop(columns=columns_to_drop).dropna()\n",
    "penalty_stats.head()"
   ]
  },
  {
   "cell_type": "code",
   "execution_count": 3,
   "id": "a6ec26f9",
   "metadata": {},
   "outputs": [],
   "source": [
    "# get the dummies\n",
    "columns_to_get_dummies = ['Team taking pen', 'Scored', 'Team win']\n",
    "penalty_stats_dummies = pd.get_dummies(penalty_stats[columns_to_get_dummies], drop_first=True)"
   ]
  },
  {
   "cell_type": "code",
   "execution_count": 4,
   "id": "56c21443",
   "metadata": {},
   "outputs": [
    {
     "data": {
      "text/html": [
       "<div>\n",
       "<style scoped>\n",
       "    .dataframe tbody tr th:only-of-type {\n",
       "        vertical-align: middle;\n",
       "    }\n",
       "\n",
       "    .dataframe tbody tr th {\n",
       "        vertical-align: top;\n",
       "    }\n",
       "\n",
       "    .dataframe thead th {\n",
       "        text-align: right;\n",
       "    }\n",
       "</style>\n",
       "<table border=\"1\" class=\"dataframe\">\n",
       "  <thead>\n",
       "    <tr style=\"text-align: right;\">\n",
       "      <th></th>\n",
       "      <th>Competition</th>\n",
       "      <th>Home team</th>\n",
       "      <th>Away team</th>\n",
       "      <th>Minute</th>\n",
       "      <th>PT position</th>\n",
       "      <th>Team taking pen_Home</th>\n",
       "      <th>Scored_YES</th>\n",
       "      <th>Team win_YES</th>\n",
       "    </tr>\n",
       "  </thead>\n",
       "  <tbody>\n",
       "    <tr>\n",
       "      <th>0</th>\n",
       "      <td>Premier League</td>\n",
       "      <td>West Ham</td>\n",
       "      <td>Manchester City</td>\n",
       "      <td>84.0</td>\n",
       "      <td>ST</td>\n",
       "      <td>0</td>\n",
       "      <td>0</td>\n",
       "      <td>1</td>\n",
       "    </tr>\n",
       "    <tr>\n",
       "      <th>1</th>\n",
       "      <td>Premier League</td>\n",
       "      <td>West Ham</td>\n",
       "      <td>Manchester City</td>\n",
       "      <td>86.0</td>\n",
       "      <td>ST</td>\n",
       "      <td>0</td>\n",
       "      <td>1</td>\n",
       "      <td>1</td>\n",
       "    </tr>\n",
       "    <tr>\n",
       "      <th>2</th>\n",
       "      <td>Premier League</td>\n",
       "      <td>Manchester United</td>\n",
       "      <td>Chelsea</td>\n",
       "      <td>18.0</td>\n",
       "      <td>W</td>\n",
       "      <td>1</td>\n",
       "      <td>1</td>\n",
       "      <td>1</td>\n",
       "    </tr>\n",
       "    <tr>\n",
       "      <th>3</th>\n",
       "      <td>Premier League</td>\n",
       "      <td>Aston Villa</td>\n",
       "      <td>Bournemouth</td>\n",
       "      <td>2.0</td>\n",
       "      <td>OM</td>\n",
       "      <td>0</td>\n",
       "      <td>1</td>\n",
       "      <td>1</td>\n",
       "    </tr>\n",
       "    <tr>\n",
       "      <th>4</th>\n",
       "      <td>Premier League</td>\n",
       "      <td>Wolverhampton</td>\n",
       "      <td>Manchester United</td>\n",
       "      <td>68.0</td>\n",
       "      <td>DM</td>\n",
       "      <td>0</td>\n",
       "      <td>0</td>\n",
       "      <td>0</td>\n",
       "    </tr>\n",
       "  </tbody>\n",
       "</table>\n",
       "</div>"
      ],
      "text/plain": [
       "      Competition          Home team          Away team  Minute PT position  \\\n",
       "0  Premier League           West Ham    Manchester City    84.0          ST   \n",
       "1  Premier League           West Ham    Manchester City    86.0          ST   \n",
       "2  Premier League  Manchester United            Chelsea    18.0           W   \n",
       "3  Premier League        Aston Villa        Bournemouth     2.0          OM   \n",
       "4  Premier League      Wolverhampton  Manchester United    68.0          DM   \n",
       "\n",
       "   Team taking pen_Home  Scored_YES  Team win_YES  \n",
       "0                     0           0             1  \n",
       "1                     0           1             1  \n",
       "2                     1           1             1  \n",
       "3                     0           1             1  \n",
       "4                     0           0             0  "
      ]
     },
     "execution_count": 4,
     "metadata": {},
     "output_type": "execute_result"
    }
   ],
   "source": [
    "# combining penalty\n",
    "columns_to_join = ['Competition', 'Home team', 'Away team', 'Minute', 'PT position']\n",
    "penalty = penalty_stats[columns_to_join].join(penalty_stats_dummies)\n",
    "penalty.head()"
   ]
  },
  {
   "cell_type": "code",
   "execution_count": 5,
   "id": "a27c9a01",
   "metadata": {},
   "outputs": [
    {
     "data": {
      "text/html": [
       "<div>\n",
       "<style scoped>\n",
       "    .dataframe tbody tr th:only-of-type {\n",
       "        vertical-align: middle;\n",
       "    }\n",
       "\n",
       "    .dataframe tbody tr th {\n",
       "        vertical-align: top;\n",
       "    }\n",
       "\n",
       "    .dataframe thead th {\n",
       "        text-align: right;\n",
       "    }\n",
       "</style>\n",
       "<table border=\"1\" class=\"dataframe\">\n",
       "  <thead>\n",
       "    <tr style=\"text-align: right;\">\n",
       "      <th></th>\n",
       "      <th>Competition</th>\n",
       "      <th>Home team</th>\n",
       "      <th>Away team</th>\n",
       "      <th>Minute</th>\n",
       "      <th>PT position</th>\n",
       "      <th>Team taking pen_Home</th>\n",
       "      <th>Scored_YES</th>\n",
       "      <th>Team win_YES</th>\n",
       "      <th>PT team</th>\n",
       "    </tr>\n",
       "  </thead>\n",
       "  <tbody>\n",
       "    <tr>\n",
       "      <th>0</th>\n",
       "      <td>Premier League</td>\n",
       "      <td>West Ham</td>\n",
       "      <td>Manchester City</td>\n",
       "      <td>84.0</td>\n",
       "      <td>ST</td>\n",
       "      <td>0</td>\n",
       "      <td>0</td>\n",
       "      <td>1</td>\n",
       "      <td>Manchester City</td>\n",
       "    </tr>\n",
       "    <tr>\n",
       "      <th>1</th>\n",
       "      <td>Premier League</td>\n",
       "      <td>West Ham</td>\n",
       "      <td>Manchester City</td>\n",
       "      <td>86.0</td>\n",
       "      <td>ST</td>\n",
       "      <td>0</td>\n",
       "      <td>1</td>\n",
       "      <td>1</td>\n",
       "      <td>Manchester City</td>\n",
       "    </tr>\n",
       "    <tr>\n",
       "      <th>2</th>\n",
       "      <td>Premier League</td>\n",
       "      <td>Manchester United</td>\n",
       "      <td>Chelsea</td>\n",
       "      <td>18.0</td>\n",
       "      <td>W</td>\n",
       "      <td>1</td>\n",
       "      <td>1</td>\n",
       "      <td>1</td>\n",
       "      <td>Manchester United</td>\n",
       "    </tr>\n",
       "    <tr>\n",
       "      <th>3</th>\n",
       "      <td>Premier League</td>\n",
       "      <td>Aston Villa</td>\n",
       "      <td>Bournemouth</td>\n",
       "      <td>2.0</td>\n",
       "      <td>OM</td>\n",
       "      <td>0</td>\n",
       "      <td>1</td>\n",
       "      <td>1</td>\n",
       "      <td>Bournemouth</td>\n",
       "    </tr>\n",
       "    <tr>\n",
       "      <th>4</th>\n",
       "      <td>Premier League</td>\n",
       "      <td>Wolverhampton</td>\n",
       "      <td>Manchester United</td>\n",
       "      <td>68.0</td>\n",
       "      <td>DM</td>\n",
       "      <td>0</td>\n",
       "      <td>0</td>\n",
       "      <td>0</td>\n",
       "      <td>Manchester United</td>\n",
       "    </tr>\n",
       "  </tbody>\n",
       "</table>\n",
       "</div>"
      ],
      "text/plain": [
       "      Competition          Home team          Away team  Minute PT position  \\\n",
       "0  Premier League           West Ham    Manchester City    84.0          ST   \n",
       "1  Premier League           West Ham    Manchester City    86.0          ST   \n",
       "2  Premier League  Manchester United            Chelsea    18.0           W   \n",
       "3  Premier League        Aston Villa        Bournemouth     2.0          OM   \n",
       "4  Premier League      Wolverhampton  Manchester United    68.0          DM   \n",
       "\n",
       "   Team taking pen_Home  Scored_YES  Team win_YES            PT team  \n",
       "0                     0           0             1    Manchester City  \n",
       "1                     0           1             1    Manchester City  \n",
       "2                     1           1             1  Manchester United  \n",
       "3                     0           1             1        Bournemouth  \n",
       "4                     0           0             0  Manchester United  "
      ]
     },
     "execution_count": 5,
     "metadata": {},
     "output_type": "execute_result"
    }
   ],
   "source": [
    "# getting the team taking penalty\n",
    "def get_PT_team(row):\n",
    "    if row['Team taking pen_Home']:\n",
    "        return row['Home team']\n",
    "    return row['Away team']\n",
    "\n",
    "penalty['PT team'] = penalty.apply(get_PT_team, axis=1)\n",
    "penalty.head()"
   ]
  },
  {
   "cell_type": "markdown",
   "id": "3d86aec2",
   "metadata": {},
   "source": [
    "### Payrolls"
   ]
  },
  {
   "cell_type": "markdown",
   "id": "cb6efdfc",
   "metadata": {},
   "source": [
    "The [second dataset](https://www.capology.com) is about the payroll of each club: the total amount of salary each club paid in that year, in Euros. We found the dataset from Capology. It contains 80 rows. This dataset has 1 predictor: the payroll of each club. "
   ]
  },
  {
   "cell_type": "code",
   "execution_count": 6,
   "id": "6d81e37c",
   "metadata": {},
   "outputs": [],
   "source": [
    "# getting individual datasets\n",
    "bundesliga = pd.read_csv('bundesliga.csv')[['Club', 'Annual Gross (IN EUR']]\n",
    "ligue1 = pd.read_csv('ligue-1.csv')[['Club', 'Annual Gross (IN EUR']]\n",
    "serieA = pd.read_csv('serieA.csv')[['Club', 'Annual Gross (IN EUR']]\n",
    "laliga = pd.read_csv('la-liga.csv')[['Club', 'Annual Gross (IN EUR']]\n",
    "primeiraliga = pd.read_csv('primeira-liga.csv')[['Club', 'Annual Gross (IN EUR']]\n",
    "# NOTE: epl is in GBP, not in EUR\n",
    "epl = pd.read_csv('epl.csv')[['Club', 'Annual Gross (IN GBP']]\\\n",
    "        .rename(columns={'Annual Gross (IN GBP': 'Payroll'}).drop_duplicates('Club')"
   ]
  },
  {
   "cell_type": "code",
   "execution_count": 7,
   "id": "21738528",
   "metadata": {},
   "outputs": [],
   "source": [
    "# defining functions to convert the currency to float\n",
    "def get_payroll_float(payroll_str):\n",
    "    '''\n",
    "    Convert the payroll in string into payroll in integers.\n",
    "    '''\n",
    "    payroll_int = float(\"\".join(re.findall('\\d+', payroll_str)))\n",
    "    return payroll_int * 1000\n",
    "\n",
    "def convert_GBP_to_EUR(payroll_gbp):\n",
    "    '''\n",
    "    Convert the payroll from GBP currency to EUR currency for EPL\n",
    "    Source: https://www.exchangerates.org.uk/GBP-EUR-spot-exchange-rates-history-2019.html#:~:text=Average%20exchange%20rate%20in%202019%3A%201.1405%20EUR.\n",
    "    '''\n",
    "    return payroll_gbp * 1.1405"
   ]
  },
  {
   "cell_type": "code",
   "execution_count": 8,
   "id": "ad8916f6",
   "metadata": {},
   "outputs": [
    {
     "data": {
      "text/html": [
       "<div>\n",
       "<style scoped>\n",
       "    .dataframe tbody tr th:only-of-type {\n",
       "        vertical-align: middle;\n",
       "    }\n",
       "\n",
       "    .dataframe tbody tr th {\n",
       "        vertical-align: top;\n",
       "    }\n",
       "\n",
       "    .dataframe thead th {\n",
       "        text-align: right;\n",
       "    }\n",
       "</style>\n",
       "<table border=\"1\" class=\"dataframe\">\n",
       "  <thead>\n",
       "    <tr style=\"text-align: right;\">\n",
       "      <th></th>\n",
       "      <th>Club</th>\n",
       "      <th>Payroll_EUR</th>\n",
       "    </tr>\n",
       "  </thead>\n",
       "  <tbody>\n",
       "    <tr>\n",
       "      <th>0</th>\n",
       "      <td>Paderborn</td>\n",
       "      <td>7.010000e+08</td>\n",
       "    </tr>\n",
       "    <tr>\n",
       "      <th>1</th>\n",
       "      <td>Wolfsburg</td>\n",
       "      <td>6.687000e+09</td>\n",
       "    </tr>\n",
       "    <tr>\n",
       "      <th>2</th>\n",
       "      <td>Eintracht Frankfurt</td>\n",
       "      <td>4.307000e+09</td>\n",
       "    </tr>\n",
       "    <tr>\n",
       "      <th>3</th>\n",
       "      <td>Dusseldorf</td>\n",
       "      <td>2.195000e+09</td>\n",
       "    </tr>\n",
       "    <tr>\n",
       "      <th>4</th>\n",
       "      <td>Schalke 04</td>\n",
       "      <td>4.863000e+09</td>\n",
       "    </tr>\n",
       "  </tbody>\n",
       "</table>\n",
       "</div>"
      ],
      "text/plain": [
       "                  Club   Payroll_EUR\n",
       "0            Paderborn  7.010000e+08\n",
       "1            Wolfsburg  6.687000e+09\n",
       "2  Eintracht Frankfurt  4.307000e+09\n",
       "3           Dusseldorf  2.195000e+09\n",
       "4           Schalke 04  4.863000e+09"
      ]
     },
     "execution_count": 8,
     "metadata": {},
     "output_type": "execute_result"
    }
   ],
   "source": [
    "# Combining the payroll datasets\n",
    "payroll_EUR = bundesliga.append(ligue1).append(serieA).append(laliga).append(primeiraliga).reset_index()\\\n",
    "                        .rename(columns={'Annual Gross (IN EUR': 'Payroll'}).drop_duplicates('Club')\n",
    "payroll_EUR['Payroll_EUR'] = payroll_EUR['Payroll'].apply(get_payroll_float)\n",
    "payroll_epl = epl\n",
    "payroll_epl['Payroll_EUR'] = payroll_epl['Payroll'].apply(get_payroll_float).apply(convert_GBP_to_EUR)\n",
    "payroll = payroll_EUR.append(payroll_epl).reset_index().drop(columns=['Payroll', 'index', 'level_0'])\n",
    "payroll.head()"
   ]
  },
  {
   "cell_type": "markdown",
   "id": "811ceb41",
   "metadata": {},
   "source": [
    "### Stadium Capacity"
   ]
  },
  {
   "cell_type": "markdown",
   "id": "e2d0fcee",
   "metadata": {},
   "source": [
    "The [third dataset](https://data.world/johayes13/football-soccer-stadiums) is about the stadium capacity of each match: it has the total number of seats in each stadium. The dataset has 2024 observations. We obtained it from data.world. This dataset has 1 predictor: the stadium’s number of seats. "
   ]
  },
  {
   "cell_type": "code",
   "execution_count": 9,
   "id": "548bfb55",
   "metadata": {},
   "outputs": [
    {
     "data": {
      "text/html": [
       "<div>\n",
       "<style scoped>\n",
       "    .dataframe tbody tr th:only-of-type {\n",
       "        vertical-align: middle;\n",
       "    }\n",
       "\n",
       "    .dataframe tbody tr th {\n",
       "        vertical-align: top;\n",
       "    }\n",
       "\n",
       "    .dataframe thead th {\n",
       "        text-align: right;\n",
       "    }\n",
       "</style>\n",
       "<table border=\"1\" class=\"dataframe\">\n",
       "  <thead>\n",
       "    <tr style=\"text-align: right;\">\n",
       "      <th></th>\n",
       "      <th>HomeTeams</th>\n",
       "      <th>Stadium cap</th>\n",
       "    </tr>\n",
       "  </thead>\n",
       "  <tbody>\n",
       "    <tr>\n",
       "      <th>0</th>\n",
       "      <td>Besëlidhja</td>\n",
       "      <td>7000</td>\n",
       "    </tr>\n",
       "    <tr>\n",
       "      <th>1</th>\n",
       "      <td>Flamurtari Vlorë</td>\n",
       "      <td>8200</td>\n",
       "    </tr>\n",
       "    <tr>\n",
       "      <th>2</th>\n",
       "      <td>KF Laçi</td>\n",
       "      <td>5000</td>\n",
       "    </tr>\n",
       "    <tr>\n",
       "      <th>3</th>\n",
       "      <td>Teuta</td>\n",
       "      <td>12040</td>\n",
       "    </tr>\n",
       "    <tr>\n",
       "      <th>4</th>\n",
       "      <td>KF Tirana, Dinamo, Partizani</td>\n",
       "      <td>9500</td>\n",
       "    </tr>\n",
       "  </tbody>\n",
       "</table>\n",
       "</div>"
      ],
      "text/plain": [
       "                      HomeTeams  Stadium cap\n",
       "0                    Besëlidhja         7000\n",
       "1              Flamurtari Vlorë         8200\n",
       "2                       KF Laçi         5000\n",
       "3                         Teuta        12040\n",
       "4  KF Tirana, Dinamo, Partizani         9500"
      ]
     },
     "execution_count": 9,
     "metadata": {},
     "output_type": "execute_result"
    }
   ],
   "source": [
    "capacity = pd.read_csv('football-stadiums.csv')[['Confederation', 'HomeTeams', 'Capacity']]\n",
    "capacity = capacity.drop(columns=['Confederation']).rename(columns={'Capacity': 'Stadium cap'})\n",
    "capacity.head()"
   ]
  },
  {
   "cell_type": "markdown",
   "id": "927ac161",
   "metadata": {},
   "source": [
    "### Combining all datasets"
   ]
  },
  {
   "cell_type": "code",
   "execution_count": 10,
   "id": "759f0c66",
   "metadata": {},
   "outputs": [
    {
     "data": {
      "text/html": [
       "<div>\n",
       "<style scoped>\n",
       "    .dataframe tbody tr th:only-of-type {\n",
       "        vertical-align: middle;\n",
       "    }\n",
       "\n",
       "    .dataframe tbody tr th {\n",
       "        vertical-align: top;\n",
       "    }\n",
       "\n",
       "    .dataframe thead th {\n",
       "        text-align: right;\n",
       "    }\n",
       "</style>\n",
       "<table border=\"1\" class=\"dataframe\">\n",
       "  <thead>\n",
       "    <tr style=\"text-align: right;\">\n",
       "      <th></th>\n",
       "      <th>Competition</th>\n",
       "      <th>Home team</th>\n",
       "      <th>Away team</th>\n",
       "      <th>Minute</th>\n",
       "      <th>PT position</th>\n",
       "      <th>Team taking pen_Home</th>\n",
       "      <th>Scored_YES</th>\n",
       "      <th>Team win_YES</th>\n",
       "      <th>PT team</th>\n",
       "      <th>Payroll_EUR</th>\n",
       "      <th>Stadium cap</th>\n",
       "    </tr>\n",
       "  </thead>\n",
       "  <tbody>\n",
       "    <tr>\n",
       "      <th>0</th>\n",
       "      <td>Premier League</td>\n",
       "      <td>West Ham</td>\n",
       "      <td>Manchester City</td>\n",
       "      <td>84.0</td>\n",
       "      <td>ST</td>\n",
       "      <td>0</td>\n",
       "      <td>0</td>\n",
       "      <td>1</td>\n",
       "      <td>Manchester City</td>\n",
       "      <td>1.699231e+10</td>\n",
       "      <td>35345.0</td>\n",
       "    </tr>\n",
       "    <tr>\n",
       "      <th>0</th>\n",
       "      <td>Premier League</td>\n",
       "      <td>West Ham</td>\n",
       "      <td>Manchester City</td>\n",
       "      <td>84.0</td>\n",
       "      <td>ST</td>\n",
       "      <td>0</td>\n",
       "      <td>0</td>\n",
       "      <td>1</td>\n",
       "      <td>Manchester City</td>\n",
       "      <td>1.699231e+10</td>\n",
       "      <td>60000.0</td>\n",
       "    </tr>\n",
       "    <tr>\n",
       "      <th>1</th>\n",
       "      <td>Premier League</td>\n",
       "      <td>West Ham</td>\n",
       "      <td>Manchester City</td>\n",
       "      <td>86.0</td>\n",
       "      <td>ST</td>\n",
       "      <td>0</td>\n",
       "      <td>1</td>\n",
       "      <td>1</td>\n",
       "      <td>Manchester City</td>\n",
       "      <td>1.699231e+10</td>\n",
       "      <td>35345.0</td>\n",
       "    </tr>\n",
       "    <tr>\n",
       "      <th>1</th>\n",
       "      <td>Premier League</td>\n",
       "      <td>West Ham</td>\n",
       "      <td>Manchester City</td>\n",
       "      <td>86.0</td>\n",
       "      <td>ST</td>\n",
       "      <td>0</td>\n",
       "      <td>1</td>\n",
       "      <td>1</td>\n",
       "      <td>Manchester City</td>\n",
       "      <td>1.699231e+10</td>\n",
       "      <td>60000.0</td>\n",
       "    </tr>\n",
       "    <tr>\n",
       "      <th>2</th>\n",
       "      <td>Premier League</td>\n",
       "      <td>Manchester United</td>\n",
       "      <td>Chelsea</td>\n",
       "      <td>18.0</td>\n",
       "      <td>W</td>\n",
       "      <td>1</td>\n",
       "      <td>1</td>\n",
       "      <td>1</td>\n",
       "      <td>Manchester United</td>\n",
       "      <td>1.886843e+10</td>\n",
       "      <td>74994.0</td>\n",
       "    </tr>\n",
       "  </tbody>\n",
       "</table>\n",
       "</div>"
      ],
      "text/plain": [
       "      Competition          Home team        Away team  Minute PT position  \\\n",
       "0  Premier League           West Ham  Manchester City    84.0          ST   \n",
       "0  Premier League           West Ham  Manchester City    84.0          ST   \n",
       "1  Premier League           West Ham  Manchester City    86.0          ST   \n",
       "1  Premier League           West Ham  Manchester City    86.0          ST   \n",
       "2  Premier League  Manchester United          Chelsea    18.0           W   \n",
       "\n",
       "   Team taking pen_Home  Scored_YES  Team win_YES            PT team  \\\n",
       "0                     0           0             1    Manchester City   \n",
       "0                     0           0             1    Manchester City   \n",
       "1                     0           1             1    Manchester City   \n",
       "1                     0           1             1    Manchester City   \n",
       "2                     1           1             1  Manchester United   \n",
       "\n",
       "    Payroll_EUR  Stadium cap  \n",
       "0  1.699231e+10      35345.0  \n",
       "0  1.699231e+10      60000.0  \n",
       "1  1.699231e+10      35345.0  \n",
       "1  1.699231e+10      60000.0  \n",
       "2  1.886843e+10      74994.0  "
      ]
     },
     "execution_count": 10,
     "metadata": {},
     "output_type": "execute_result"
    }
   ],
   "source": [
    "penalty_payroll = penalty.join(payroll.set_index('Club'), on='PT team')\n",
    "data = penalty_payroll.join(capacity.set_index('HomeTeams'), on='Home team')\n",
    "data.head()\n",
    "# CHECKING for NaN\n",
    "# penalty_payroll[penalty_payroll['Payroll_EUR'].isnull()]\n",
    "# data[data['Stadium cap'].isnull()]"
   ]
  },
  {
   "cell_type": "markdown",
   "id": "3c87a3e7",
   "metadata": {},
   "source": [
    "## Research Questions"
   ]
  },
  {
   "cell_type": "markdown",
   "id": "a5222cc2",
   "metadata": {},
   "source": [
    "### 1. How does time of the penalty and home/away status affect penalty success rate (scored or not) across the leagues? \n",
    "> Logistics Regression classified between leagues. \n",
    ">> 1. X: Minute (bins of 9; 10 bins in total)\n",
    "2. Y: Penalty success rate in percent "
   ]
  },
  {
   "cell_type": "markdown",
   "id": "62829120",
   "metadata": {},
   "source": [
    "### 2. Do strikers (ST) have a greater success rate than non-strikers when taking penalties? \n",
    "> A/B Testing with categories:\n",
    ">> 1. Strikers (ST)\n",
    "2. Non-strikers (Other positions)"
   ]
  },
  {
   "cell_type": "markdown",
   "id": "6bfda6cb",
   "metadata": {},
   "source": [
    "### 3. Does a team’s payroll (total salary paid annually) and stadium capacity influence the number of penalties awarded to them? "
   ]
  },
  {
   "cell_type": "markdown",
   "id": "cbf0b267",
   "metadata": {},
   "source": [
    "> Multiple Linear Regressions\n",
    ">> 1. Payroll\n",
    "2. Stadium Capacipty\n",
    "3. Number of penalties awarded to them"
   ]
  },
  {
   "cell_type": "markdown",
   "id": "ddfa7a7d",
   "metadata": {},
   "source": [
    "### Backup\n",
    "4. Does the number of penalties taken affect the success rate? \n",
    "5. Does the date of the match have an effect on the success rate/penalty conceded? \n",
    "6. Does the outcome of the game be affected by the penalty and its success rate?)"
   ]
  },
  {
   "cell_type": "markdown",
   "id": "585eadf7",
   "metadata": {},
   "source": [
    "## Exploratory Data Analysis"
   ]
  },
  {
   "cell_type": "markdown",
   "id": "c104b173",
   "metadata": {},
   "source": [
    "### First Question\n",
    "For first question, we can have two graphs. \n",
    "1. The first is a bar chart with home/away in x-axis and number of goals in y-axis. \n",
    "2. The second is scatter plot with minute in x-axis and number of goals in y-axis (no need to bin).  "
   ]
  },
  {
   "cell_type": "code",
   "execution_count": 11,
   "id": "2e343ec0",
   "metadata": {},
   "outputs": [
    {
     "data": {
      "text/html": [
       "<div>\n",
       "<style scoped>\n",
       "    .dataframe tbody tr th:only-of-type {\n",
       "        vertical-align: middle;\n",
       "    }\n",
       "\n",
       "    .dataframe tbody tr th {\n",
       "        vertical-align: top;\n",
       "    }\n",
       "\n",
       "    .dataframe thead th {\n",
       "        text-align: right;\n",
       "    }\n",
       "</style>\n",
       "<table border=\"1\" class=\"dataframe\">\n",
       "  <thead>\n",
       "    <tr style=\"text-align: right;\">\n",
       "      <th></th>\n",
       "      <th>Team taking pen_Home</th>\n",
       "      <th>Scored_YES</th>\n",
       "      <th>Scored_YES_%</th>\n",
       "    </tr>\n",
       "  </thead>\n",
       "  <tbody>\n",
       "    <tr>\n",
       "      <th>0</th>\n",
       "      <td>0</td>\n",
       "      <td>193</td>\n",
       "      <td>73.94636</td>\n",
       "    </tr>\n",
       "    <tr>\n",
       "      <th>1</th>\n",
       "      <td>1</td>\n",
       "      <td>218</td>\n",
       "      <td>81.64794</td>\n",
       "    </tr>\n",
       "  </tbody>\n",
       "</table>\n",
       "</div>"
      ],
      "text/plain": [
       "   Team taking pen_Home  Scored_YES  Scored_YES_%\n",
       "0                     0         193      73.94636\n",
       "1                     1         218      81.64794"
      ]
     },
     "execution_count": 11,
     "metadata": {},
     "output_type": "execute_result"
    }
   ],
   "source": [
    "# First Graph - Bar Chart\n",
    "\n",
    "data2 = data[[\"Team taking pen_Home\", \"Scored_YES\"]]\n",
    "count_sums_df = data2.groupby(['Team taking pen_Home']).sum()\n",
    "count_sums_db = data2.groupby(['Team taking pen_Home']).size()\n",
    "scored_count = count_sums_df['Scored_YES'] \n",
    "count_sums_df['Scored_YES_%'] = scored_count/count_sums_db * 100\n",
    "count_sums_df.reset_index(inplace=True)\n",
    "count_sums_df"
   ]
  },
  {
   "cell_type": "code",
   "execution_count": 12,
   "id": "a5452d67",
   "metadata": {},
   "outputs": [
    {
     "data": {
      "image/png": "[encoded data removed]",
      "text/plain": [
       "<Figure size 432x288 with 1 Axes>"
      ]
     },
     "metadata": {
      "needs_background": "light"
     },
     "output_type": "display_data"
    }
   ],
   "source": [
    "bar_chart = count_sums_df.plot.bar(x='Team taking pen_Home', \n",
    "                                   y=\"Scored_YES_%\", \n",
    "                                   title = \"Penalty Success Rate for Home and Away Teams\")\n",
    "bar_chart.set_xlabel(\"Home/Away Status\")\n",
    "bar_chart.set_ylabel(\"Penalty Sucess Rate (%)\")\n",
    "bar_chart.legend(['Penalty Success Rate(%)'])\n",
    "count_sums_df['Team taking pen_Home'].value_counts().plot(kind='bar')\n",
    "plt.xticks([0,1],['Away', 'Home'])\n",
    "plt.show()"
   ]
  },
  {
   "cell_type": "markdown",
   "id": "eb8f6807",
   "metadata": {},
   "source": [
    "For the first graph: the success rate for penalties is higher for Home teams compared to Away teams which is probably because of the home crowd support."
   ]
  },
  {
   "cell_type": "code",
   "execution_count": 13,
   "id": "d9175245",
   "metadata": {},
   "outputs": [
    {
     "data": {
      "image/png": "[encoded data removed]",
      "text/plain": [
       "<Figure size 432x288 with 1 Axes>"
      ]
     },
     "metadata": {
      "needs_background": "light"
     },
     "output_type": "display_data"
    }
   ],
   "source": [
    "# Second Graph - Scatter Plot\n",
    "\n",
    "data3 = data[[\"Minute\", \"Scored_YES\"]]\n",
    "count_sums_sp = data3.groupby(['Minute']).sum()\n",
    "count_sums_sp.reset_index(inplace=True)\n",
    "scatter_plot = count_sums_sp.plot.scatter(y = \"Scored_YES\", x = \"Minute\", title = \"Number of Goals Scored at each Minute \")\n",
    "scatter_plot.set_xlabel(\"Minute of the Game\")\n",
    "scatter_plot.set_ylabel(\"Number of Goals Scored\")\n",
    "plt.show()"
   ]
  },
  {
   "cell_type": "markdown",
   "id": "7c37c35c",
   "metadata": {},
   "source": [
    "For the second graph:  It is interesting to note that there are many more penalties scored around the 45 minute mark, which is probably because that includes all the penalties in the extra time as well.  Moreover, there are no penalties at the 0 minute mark because the game has not properly started. Apart from that, the penalties scored are within the 0 - 10 goals range per minute."
   ]
  },
  {
   "cell_type": "markdown",
   "id": "8ac40c30",
   "metadata": {},
   "source": [
    "### Second Question\n",
    "In second question, we create a bar chart of striker vs non-striker in x-axis and their success rate in y-axis."
   ]
  },
  {
   "cell_type": "code",
   "execution_count": 14,
   "id": "73de2830",
   "metadata": {},
   "outputs": [
    {
     "data": {
      "text/plain": [
       "<AxesSubplot:xlabel='Striker'>"
      ]
     },
     "execution_count": 14,
     "metadata": {},
     "output_type": "execute_result"
    },
    {
     "data": {
      "image/png": "[encoded data removed]",
      "text/plain": [
       "<Figure size 432x288 with 1 Axes>"
      ]
     },
     "metadata": {
      "needs_background": "light"
     },
     "output_type": "display_data"
    }
   ],
   "source": [
    "data_q2 = data\n",
    "data_q2['Striker'] = data_q2['PT position']=='ST'\n",
    "q2 = data_q2[['Striker','Scored_YES']]\n",
    "t2=pd.crosstab(q2['Striker'],q2['Scored_YES']).apply(lambda r: r/r.sum(), axis=1)\n",
    "t2.plot.bar(stacked=True)"
   ]
  },
  {
   "cell_type": "code",
   "execution_count": 15,
   "id": "15b393c7",
   "metadata": {},
   "outputs": [
    {
     "data": {
      "text/html": [
       "<div>\n",
       "<style scoped>\n",
       "    .dataframe tbody tr th:only-of-type {\n",
       "        vertical-align: middle;\n",
       "    }\n",
       "\n",
       "    .dataframe tbody tr th {\n",
       "        vertical-align: top;\n",
       "    }\n",
       "\n",
       "    .dataframe thead th {\n",
       "        text-align: right;\n",
       "    }\n",
       "</style>\n",
       "<table border=\"1\" class=\"dataframe\">\n",
       "  <thead>\n",
       "    <tr style=\"text-align: right;\">\n",
       "      <th>Scored_YES</th>\n",
       "      <th>0</th>\n",
       "      <th>1</th>\n",
       "    </tr>\n",
       "    <tr>\n",
       "      <th>Striker</th>\n",
       "      <th></th>\n",
       "      <th></th>\n",
       "    </tr>\n",
       "  </thead>\n",
       "  <tbody>\n",
       "    <tr>\n",
       "      <th>False</th>\n",
       "      <td>0.220588</td>\n",
       "      <td>0.779412</td>\n",
       "    </tr>\n",
       "    <tr>\n",
       "      <th>True</th>\n",
       "      <td>0.222656</td>\n",
       "      <td>0.777344</td>\n",
       "    </tr>\n",
       "  </tbody>\n",
       "</table>\n",
       "</div>"
      ],
      "text/plain": [
       "Scored_YES         0         1\n",
       "Striker                       \n",
       "False       0.220588  0.779412\n",
       "True        0.222656  0.777344"
      ]
     },
     "execution_count": 15,
     "metadata": {},
     "output_type": "execute_result"
    }
   ],
   "source": [
    "t2"
   ]
  },
  {
   "cell_type": "markdown",
   "id": "06418012",
   "metadata": {},
   "source": [
    "As we can see, the average penalty success rate of strikers is 77.9% while that of non-strikers is 78.4%. There does not seem to be a significant difference."
   ]
  },
  {
   "cell_type": "markdown",
   "id": "c224f7ee",
   "metadata": {},
   "source": [
    "### Third Question\n",
    "In third question, we make two graphs. \n",
    "1. A scatter plot of success rate against payroll.\n",
    "2. A scatter plot of success rate against capacity. "
   ]
  },
  {
   "cell_type": "code",
   "execution_count": 16,
   "id": "eddc4136",
   "metadata": {},
   "outputs": [
    {
     "data": {
      "text/html": [
       "<div>\n",
       "<style scoped>\n",
       "    .dataframe tbody tr th:only-of-type {\n",
       "        vertical-align: middle;\n",
       "    }\n",
       "\n",
       "    .dataframe tbody tr th {\n",
       "        vertical-align: top;\n",
       "    }\n",
       "\n",
       "    .dataframe thead th {\n",
       "        text-align: right;\n",
       "    }\n",
       "</style>\n",
       "<table border=\"1\" class=\"dataframe\">\n",
       "  <thead>\n",
       "    <tr style=\"text-align: right;\">\n",
       "      <th></th>\n",
       "      <th>Scored_YES</th>\n",
       "      <th>Num_taken</th>\n",
       "      <th>Payroll_EUR</th>\n",
       "      <th>Stadium cap</th>\n",
       "    </tr>\n",
       "    <tr>\n",
       "      <th>PT team</th>\n",
       "      <th></th>\n",
       "      <th></th>\n",
       "      <th></th>\n",
       "      <th></th>\n",
       "    </tr>\n",
       "  </thead>\n",
       "  <tbody>\n",
       "    <tr>\n",
       "      <th>Lazio</th>\n",
       "      <td>15</td>\n",
       "      <td>18</td>\n",
       "      <td>6.411000e+09</td>\n",
       "      <td>70634.0</td>\n",
       "    </tr>\n",
       "    <tr>\n",
       "      <th>Juventus</th>\n",
       "      <td>14</td>\n",
       "      <td>15</td>\n",
       "      <td>2.527600e+10</td>\n",
       "      <td>41507.0</td>\n",
       "    </tr>\n",
       "    <tr>\n",
       "      <th>Roma</th>\n",
       "      <td>12</td>\n",
       "      <td>14</td>\n",
       "      <td>1.158800e+10</td>\n",
       "      <td>70634.0</td>\n",
       "    </tr>\n",
       "    <tr>\n",
       "      <th>Napoli</th>\n",
       "      <td>11</td>\n",
       "      <td>12</td>\n",
       "      <td>1.000600e+10</td>\n",
       "      <td>60240.0</td>\n",
       "    </tr>\n",
       "    <tr>\n",
       "      <th>Atalanta</th>\n",
       "      <td>11</td>\n",
       "      <td>15</td>\n",
       "      <td>3.682000e+09</td>\n",
       "      <td>24726.0</td>\n",
       "    </tr>\n",
       "  </tbody>\n",
       "</table>\n",
       "</div>"
      ],
      "text/plain": [
       "          Scored_YES  Num_taken   Payroll_EUR  Stadium cap\n",
       "PT team                                                   \n",
       "Lazio             15         18  6.411000e+09      70634.0\n",
       "Juventus          14         15  2.527600e+10      41507.0\n",
       "Roma              12         14  1.158800e+10      70634.0\n",
       "Napoli            11         12  1.000600e+10      60240.0\n",
       "Atalanta          11         15  3.682000e+09      24726.0"
      ]
     },
     "execution_count": 16,
     "metadata": {},
     "output_type": "execute_result"
    }
   ],
   "source": [
    "# Getting the necessary information\n",
    "# SPRC stands for Success Rate, Payroll, Capacity\n",
    "penalty_SRPC = data[['PT team', 'Scored_YES']].groupby(by=['PT team']).sum()\\\n",
    "                                              .sort_values(['Scored_YES'], ascending=False)\n",
    "num_penalty = pd.DataFrame({\"Num_taken\": data[['PT team']].value_counts()}).reset_index()\n",
    "penalty_SRPC = penalty_SRPC.join(num_penalty.set_index('PT team'), on='PT team')\\\n",
    "                           .join(payroll.set_index('Club'), on='PT team')\\\n",
    "                           .join(capacity.set_index('HomeTeams'), on='PT team')\n",
    "# removing less than 2 penalties because they skew the success rate too much\n",
    "penalty_SRPC = penalty_SRPC[penalty_SRPC['Num_taken'] > 2]\n",
    "penalty_SRPC.head()"
   ]
  },
  {
   "cell_type": "code",
   "execution_count": 17,
   "id": "4f8f968e",
   "metadata": {},
   "outputs": [
    {
     "data": {
      "image/png": "[encoded data removed]",
      "text/plain": [
       "<Figure size 432x288 with 1 Axes>"
      ]
     },
     "metadata": {
      "needs_background": "light"
     },
     "output_type": "display_data"
    }
   ],
   "source": [
    "# number of penalties awarded to team against payroll\n",
    "plt.scatter(penalty_SRPC['Payroll_EUR'], penalty_SRPC['Num_taken'])\n",
    "plt.xlabel('Payroll (EUR)')\n",
    "plt.ylabel('Number of penalties awarded to them')\n",
    "plt.title('Payroll against number of penalties awarded')\n",
    "plt.show()"
   ]
  },
  {
   "cell_type": "code",
   "execution_count": 18,
   "id": "7aa102d3",
   "metadata": {},
   "outputs": [
    {
     "data": {
      "image/png": "[encoded data removed]",
      "text/plain": [
       "<Figure size 432x288 with 1 Axes>"
      ]
     },
     "metadata": {
      "needs_background": "light"
     },
     "output_type": "display_data"
    }
   ],
   "source": [
    "# number of penalties awarded to team against stadium capacity\n",
    "plt.scatter(penalty_SRPC['Stadium cap'], penalty_SRPC['Num_taken'])\n",
    "plt.xlabel('Stadium cap')\n",
    "plt.ylabel('Number of penalties awarded to them')\n",
    "plt.title('Stadium Capacity against number of penalties awarded')\n",
    "plt.show()"
   ]
  },
  {
   "cell_type": "markdown",
   "id": "2bd0b71c",
   "metadata": {},
   "source": [
    "From both graphs, we see that there might be positive correlation between:\n",
    "1. number of penalties awarded and payroll\n",
    "2. number of penalties awarded and stadium capacity"
   ]
  },
  {
   "cell_type": "markdown",
   "id": "c7d2eede",
   "metadata": {},
   "source": [
    "## Timeline"
   ]
  },
  {
   "cell_type": "markdown",
   "id": "2db8d00a",
   "metadata": {},
   "source": [
    "| Duration | Work |\n",
    "|:-----------------------------------------|:-----------------|\n",
    "| 23rd March – 26th March | Prepare the data |\n",
    "|27th March – 30th March | Each of us takes one question and performs data processing and analysis then consults with the others |\n",
    "|31st March – 2nd April | Revision using feedback received |\n",
    "|3rd April | Meet and discuss our work |\n",
    "|4th April – 5th April | Put everything into a presentation |\n",
    "|6th April | Presentation dry run and submission| "
   ]
  },
  {
   "cell_type": "markdown",
   "id": "1c296f69",
   "metadata": {},
   "source": [
    "## Teamwork"
   ]
  },
  {
   "cell_type": "markdown",
   "id": "fe63b50f",
   "metadata": {},
   "source": [
    "| Work | Jerri | Edward | Rana |\n",
    "|:-----------------|:-----------------|:-----------------|:-----------------|\n",
    "| Before Analysis | Prepare data (join) | Presentation | Presentation |\n",
    "| Question | 3 | 2 | 1 |"
   ]
  }
 ],
 "metadata": {
  "kernelspec": {
   "display_name": "Python 3 (ipykernel)",
   "language": "python",
   "name": "python3"
  },
  "language_info": {
   "codemirror_mode": {
    "name": "ipython",
    "version": 3
   },
   "file_extension": ".py",
   "mimetype": "text/x-python",
   "name": "python",
   "nbconvert_exporter": "python",
   "pygments_lexer": "ipython3",
   "version": "3.8.3"
  }
 },
 "nbformat": 4,
 "nbformat_minor": 5
}
